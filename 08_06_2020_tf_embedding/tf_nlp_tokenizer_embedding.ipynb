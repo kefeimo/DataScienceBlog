{
 "cells": [
  {
   "cell_type": "code",
   "execution_count": 28,
   "metadata": {},
   "outputs": [],
   "source": [
    "raw_text = ['Story of a man who has unnatural feelings for a pig.  <br>  Starts out with a opening scene that is a terrific example of absurd comedy. ',\n",
    "          \"A formal orchestra audience is turned into an insane, violent mob by the crazy chantings of it's singers.\" ,\n",
    "          'Unfortunately it stays absurd the WHOLE time with no general narrative eventually making it just too off putting. ',\n",
    "          'Even those from the era should be turned off. The cryptic dialogue would make Shakespeare seem easy to a third grader.',\n",
    "          \"On a technical level it's better than you might think with some good cinematography by future great Vilmos Zsigmond.\",\n",
    "          'Future stars Sally Kirkland and Frederic Forrest can be seen briefly.',\n",
    "          \"I've seen this story before but my kids haven't.\" ,\n",
    "          'Boy with troubled past joins military, faces his past, falls in love and becomes a man. ',\n",
    "          'The mentor this time is played perfectly by Kevin Costner; An ordinary man with common everyday problems who lives an extraordinary conviction, to save lives.',\n",
    "          'After losing his team he takes a teaching position training the next generation of heroes.',\n",
    "          'The young troubled recruit is played by Kutcher.',\n",
    "          \"While his scenes with the local love interest are a tad stiff and don't generate enough heat to melt butter, he compliments Costner well.\",\n",
    "          'I never really understood Sela Ward as the neglected wife and felt she should of wanted Costner to quit out of concern for his safety as opposed to her selfish needs.',\n",
    "          'But her presence on screen is a pleasure. The two unaccredited stars of this movie are the Coast Guard and the Sea.',\n",
    "          'Both powerful forces which should not be taken for granted in real life or this movie.',\n",
    "          'The movie has some slow spots and could have used the wasted 15 minutes to strengthen the character relationships.',\n",
    "          'But it still works. The rescue scenes are intense and well filmed and edited to provide maximum impact.',\n",
    "          'This movie earns the audience applause. And the applause of my two sons.']"
   ]
  },
  {
   "cell_type": "code",
   "execution_count": 29,
   "metadata": {},
   "outputs": [],
   "source": [
    "import pandas as pd\n",
    "import numpy as np"
   ]
  },
  {
   "cell_type": "code",
   "execution_count": 30,
   "metadata": {},
   "outputs": [
    {
     "name": "stdout",
     "output_type": "stream",
     "text": [
      "4.47.0\n"
     ]
    },
    {
     "name": "stderr",
     "output_type": "stream",
     "text": [
      "C:\\Users\\kefei\\Anaconda3\\envs\\nlp\\lib\\site-packages\\tqdm\\std.py:668: FutureWarning: The Panel class is removed from pandas. Accessing it from the top-level namespace will also be removed in the next version\n",
      "  from pandas import Panel\n"
     ]
    },
    {
     "data": {
      "application/vnd.jupyter.widget-view+json": {
       "model_id": "e6b6c656913944d79792b53eed73d569",
       "version_major": 2,
       "version_minor": 0
      },
      "text/plain": [
       "HBox(children=(FloatProgress(value=0.0, max=10.0), HTML(value='')))"
      ]
     },
     "metadata": {},
     "output_type": "display_data"
    },
    {
     "name": "stderr",
     "output_type": "stream",
     "text": [
      "100%|██████████████████████████████████████████████████████████████████████████████████| 2/2 [00:00<00:00, 3096.57it/s]"
     ]
    },
    {
     "name": "stdout",
     "output_type": "stream",
     "text": [
      "\n"
     ]
    },
    {
     "name": "stderr",
     "output_type": "stream",
     "text": [
      "\n"
     ]
    }
   ],
   "source": [
    "# tqdm to show progress bar\n",
    "import tqdm\n",
    "print(tqdm.__version__)\n",
    "tqdm.tqdm.pandas() # use progress_apply to replace apply\n",
    "from tqdm.notebook import tqdm\n",
    "\n",
    "# example 1: for loop\n",
    "for i in tqdm(range(10)):\n",
    "    pass\n",
    "# example 2: pandas\n",
    "df_test = pd.DataFrame({'num': [0,1]})\n",
    "df_test['num+1'] = df_test.num.progress_apply(lambda x: x+1)"
   ]
  },
  {
   "cell_type": "code",
   "execution_count": 31,
   "metadata": {},
   "outputs": [
    {
     "data": {
      "text/html": [
       "<div>\n",
       "<style scoped>\n",
       "    .dataframe tbody tr th:only-of-type {\n",
       "        vertical-align: middle;\n",
       "    }\n",
       "\n",
       "    .dataframe tbody tr th {\n",
       "        vertical-align: top;\n",
       "    }\n",
       "\n",
       "    .dataframe thead th {\n",
       "        text-align: right;\n",
       "    }\n",
       "</style>\n",
       "<table border=\"1\" class=\"dataframe\">\n",
       "  <thead>\n",
       "    <tr style=\"text-align: right;\">\n",
       "      <th></th>\n",
       "      <th>raw_text</th>\n",
       "    </tr>\n",
       "  </thead>\n",
       "  <tbody>\n",
       "    <tr>\n",
       "      <td>0</td>\n",
       "      <td>Story of a man who has unnatural feelings for ...</td>\n",
       "    </tr>\n",
       "    <tr>\n",
       "      <td>1</td>\n",
       "      <td>A formal orchestra audience is turned into an ...</td>\n",
       "    </tr>\n",
       "    <tr>\n",
       "      <td>2</td>\n",
       "      <td>Unfortunately it stays absurd the WHOLE time w...</td>\n",
       "    </tr>\n",
       "    <tr>\n",
       "      <td>3</td>\n",
       "      <td>Even those from the era should be turned off. ...</td>\n",
       "    </tr>\n",
       "    <tr>\n",
       "      <td>4</td>\n",
       "      <td>On a technical level it's better than you migh...</td>\n",
       "    </tr>\n",
       "  </tbody>\n",
       "</table>\n",
       "</div>"
      ],
      "text/plain": [
       "                                            raw_text\n",
       "0  Story of a man who has unnatural feelings for ...\n",
       "1  A formal orchestra audience is turned into an ...\n",
       "2  Unfortunately it stays absurd the WHOLE time w...\n",
       "3  Even those from the era should be turned off. ...\n",
       "4  On a technical level it's better than you migh..."
      ]
     },
     "execution_count": 31,
     "metadata": {},
     "output_type": "execute_result"
    }
   ],
   "source": [
    "# store in dataframe\n",
    "df_text = pd.DataFrame({'raw_text': raw_text})\n",
    "df_text.head()"
   ]
  },
  {
   "cell_type": "markdown",
   "metadata": {},
   "source": [
    "## Tokenization"
   ]
  },
  {
   "cell_type": "code",
   "execution_count": 32,
   "metadata": {},
   "outputs": [],
   "source": [
    "from tensorflow.keras.preprocessing.text import Tokenizer, text_to_word_sequence"
   ]
  },
  {
   "cell_type": "code",
   "execution_count": 33,
   "metadata": {},
   "outputs": [
    {
     "name": "stdout",
     "output_type": "stream",
     "text": [
      "Found 212 unique tokens.\n",
      "1st token-id sequnce [21, 4, 2, 12, 22, 23, 50, 51, 13, 2, 52, 53, 54, 24, 6, 2, 55, 56, 57, 7, 2, 58, 59, 4, 25, 60]\n"
     ]
    }
   ],
   "source": [
    "tokenizer = Tokenizer()\n",
    "tokenizer.fit_on_texts(raw_text)\n",
    "train_sequences = tokenizer.texts_to_sequences(raw_text) #Converting text to a vector of word indexes\n",
    "word_index = tokenizer.word_index\n",
    "print('Found %s unique tokens.' % len(word_index))\n",
    "print('1st token-id sequnce', train_sequences[0])"
   ]
  },
  {
   "cell_type": "code",
   "execution_count": 34,
   "metadata": {},
   "outputs": [
    {
     "name": "stdout",
     "output_type": "stream",
     "text": [
      "50\n",
      "None\n"
     ]
    }
   ],
   "source": [
    "# use tokenizer.num_words to reset tokens to take\n",
    "tokenizer.num_words = 50\n",
    "print(tokenizer.num_words)\n",
    "tokenizer.num_words = None\n",
    "print(tokenizer.num_words)\n",
    "# tokenizer.num_words = -1\n",
    "# print(tokenizer.num_words)"
   ]
  },
  {
   "cell_type": "code",
   "execution_count": 35,
   "metadata": {},
   "outputs": [
    {
     "name": "stdout",
     "output_type": "stream",
     "text": [
      "{'the': 1, 'a': 2, 'and': 3, 'of': 4, 'to': 5, 'with': 6, 'is': 7, 'this': 8, 'by': 9, 'his': 10, 'movie': 11, 'man': 12, 'for': 13, 'an': 14, 'it': 15, 'should': 16, 'be': 17, 'but': 18, 'costner': 19, 'are': 20, 'story': 21, 'who': 22, 'has': 23, 'out': 24, 'absurd': 25, 'audience': 26, 'turned': 27, \"it's\": 28, 'time': 29, 'off': 30, 'on': 31, 'some': 32, 'future': 33, 'stars': 34, 'seen': 35, 'my': 36, 'troubled': 37, 'past': 38, 'in': 39, 'love': 40, 'played': 41, 'lives': 42, 'he': 43, 'scenes': 44, 'well': 45, 'as': 46, 'her': 47, 'two': 48, 'applause': 49, 'unnatural': 50, 'feelings': 51, 'pig': 52, 'br': 53, 'starts': 54, 'opening': 55, 'scene': 56, 'that': 57, 'terrific': 58, 'example': 59, 'comedy': 60, 'formal': 61, 'orchestra': 62, 'into': 63, 'insane': 64, 'violent': 65, 'mob': 66, 'crazy': 67, 'chantings': 68, 'singers': 69, 'unfortunately': 70, 'stays': 71, 'whole': 72, 'no': 73, 'general': 74, 'narrative': 75, 'eventually': 76, 'making': 77, 'just': 78, 'too': 79, 'putting': 80, 'even': 81, 'those': 82, 'from': 83, 'era': 84, 'cryptic': 85, 'dialogue': 86, 'would': 87, 'make': 88, 'shakespeare': 89, 'seem': 90, 'easy': 91, 'third': 92, 'grader': 93, 'technical': 94, 'level': 95, 'better': 96, 'than': 97, 'you': 98, 'might': 99, 'think': 100, 'good': 101, 'cinematography': 102, 'great': 103, 'vilmos': 104, 'zsigmond': 105, 'sally': 106, 'kirkland': 107, 'frederic': 108, 'forrest': 109, 'can': 110, 'briefly': 111, \"i've\": 112, 'before': 113, 'kids': 114, \"haven't\": 115, 'boy': 116, 'joins': 117, 'military': 118, 'faces': 119, 'falls': 120, 'becomes': 121, 'mentor': 122, 'perfectly': 123, 'kevin': 124, 'ordinary': 125, 'common': 126, 'everyday': 127, 'problems': 128, 'extraordinary': 129, 'conviction': 130, 'save': 131, 'after': 132, 'losing': 133, 'team': 134, 'takes': 135, 'teaching': 136, 'position': 137, 'training': 138, 'next': 139, 'generation': 140, 'heroes': 141, 'young': 142, 'recruit': 143, 'kutcher': 144, 'while': 145, 'local': 146, 'interest': 147, 'tad': 148, 'stiff': 149, \"don't\": 150, 'generate': 151, 'enough': 152, 'heat': 153, 'melt': 154, 'butter': 155, 'compliments': 156, 'i': 157, 'never': 158, 'really': 159, 'understood': 160, 'sela': 161, 'ward': 162, 'neglected': 163, 'wife': 164, 'felt': 165, 'she': 166, 'wanted': 167, 'quit': 168, 'concern': 169, 'safety': 170, 'opposed': 171, 'selfish': 172, 'needs': 173, 'presence': 174, 'screen': 175, 'pleasure': 176, 'unaccredited': 177, 'coast': 178, 'guard': 179, 'sea': 180, 'both': 181, 'powerful': 182, 'forces': 183, 'which': 184, 'not': 185, 'taken': 186, 'granted': 187, 'real': 188, 'life': 189, 'or': 190, 'slow': 191, 'spots': 192, 'could': 193, 'have': 194, 'used': 195, 'wasted': 196, '15': 197, 'minutes': 198, 'strengthen': 199, 'character': 200, 'relationships': 201, 'still': 202, 'works': 203, 'rescue': 204, 'intense': 205, 'filmed': 206, 'edited': 207, 'provide': 208, 'maximum': 209, 'impact': 210, 'earns': 211, 'sons': 212}\n",
      "OrderedDict([('story', 2), ('of', 8), ('a', 11), ('man', 3), ('who', 2), ('has', 2), ('unnatural', 1), ('feelings', 1), ('for', 3), ('pig', 1), ('br', 1), ('starts', 1), ('out', 2), ('with', 6), ('opening', 1), ('scene', 1), ('that', 1), ('is', 5), ('terrific', 1), ('example', 1), ('absurd', 2), ('comedy', 1), ('formal', 1), ('orchestra', 1), ('audience', 2), ('turned', 2), ('into', 1), ('an', 3), ('insane', 1), ('violent', 1), ('mob', 1), ('by', 4), ('the', 18), ('crazy', 1), ('chantings', 1), (\"it's\", 2), ('singers', 1), ('unfortunately', 1), ('it', 3), ('stays', 1), ('whole', 1), ('time', 2), ('no', 1), ('general', 1), ('narrative', 1), ('eventually', 1), ('making', 1), ('just', 1), ('too', 1), ('off', 2), ('putting', 1), ('even', 1), ('those', 1), ('from', 1), ('era', 1), ('should', 3), ('be', 3), ('cryptic', 1), ('dialogue', 1), ('would', 1), ('make', 1), ('shakespeare', 1), ('seem', 1), ('easy', 1), ('to', 7), ('third', 1), ('grader', 1), ('on', 2), ('technical', 1), ('level', 1), ('better', 1), ('than', 1), ('you', 1), ('might', 1), ('think', 1), ('some', 2), ('good', 1), ('cinematography', 1), ('future', 2), ('great', 1), ('vilmos', 1), ('zsigmond', 1), ('stars', 2), ('sally', 1), ('kirkland', 1), ('and', 9), ('frederic', 1), ('forrest', 1), ('can', 1), ('seen', 2), ('briefly', 1), (\"i've\", 1), ('this', 5), ('before', 1), ('but', 3), ('my', 2), ('kids', 1), (\"haven't\", 1), ('boy', 1), ('troubled', 2), ('past', 2), ('joins', 1), ('military', 1), ('faces', 1), ('his', 4), ('falls', 1), ('in', 2), ('love', 2), ('becomes', 1), ('mentor', 1), ('played', 2), ('perfectly', 1), ('kevin', 1), ('costner', 3), ('ordinary', 1), ('common', 1), ('everyday', 1), ('problems', 1), ('lives', 2), ('extraordinary', 1), ('conviction', 1), ('save', 1), ('after', 1), ('losing', 1), ('team', 1), ('he', 2), ('takes', 1), ('teaching', 1), ('position', 1), ('training', 1), ('next', 1), ('generation', 1), ('heroes', 1), ('young', 1), ('recruit', 1), ('kutcher', 1), ('while', 1), ('scenes', 2), ('local', 1), ('interest', 1), ('are', 3), ('tad', 1), ('stiff', 1), (\"don't\", 1), ('generate', 1), ('enough', 1), ('heat', 1), ('melt', 1), ('butter', 1), ('compliments', 1), ('well', 2), ('i', 1), ('never', 1), ('really', 1), ('understood', 1), ('sela', 1), ('ward', 1), ('as', 2), ('neglected', 1), ('wife', 1), ('felt', 1), ('she', 1), ('wanted', 1), ('quit', 1), ('concern', 1), ('safety', 1), ('opposed', 1), ('her', 2), ('selfish', 1), ('needs', 1), ('presence', 1), ('screen', 1), ('pleasure', 1), ('two', 2), ('unaccredited', 1), ('movie', 4), ('coast', 1), ('guard', 1), ('sea', 1), ('both', 1), ('powerful', 1), ('forces', 1), ('which', 1), ('not', 1), ('taken', 1), ('granted', 1), ('real', 1), ('life', 1), ('or', 1), ('slow', 1), ('spots', 1), ('could', 1), ('have', 1), ('used', 1), ('wasted', 1), ('15', 1), ('minutes', 1), ('strengthen', 1), ('character', 1), ('relationships', 1), ('still', 1), ('works', 1), ('rescue', 1), ('intense', 1), ('filmed', 1), ('edited', 1), ('provide', 1), ('maximum', 1), ('impact', 1), ('earns', 1), ('applause', 2), ('sons', 1)])\n"
     ]
    }
   ],
   "source": [
    "# display the token dictionary (from most freqent to rarest)\n",
    "# Your PC might freeze if the dictionary is huge\n",
    "# these are the 2 useful attributes\n",
    "print(tokenizer.word_index)\n",
    "print(tokenizer.word_counts)\n",
    "# tokenizer.get_config()"
   ]
  },
  {
   "cell_type": "code",
   "execution_count": 36,
   "metadata": {},
   "outputs": [
    {
     "data": {
      "text/plain": [
       "{'num_words': None,\n",
       " 'filters': '!\"#$%&()*+,-./:;<=>?@[\\\\]^_`{|}~\\t\\n',\n",
       " 'lower': True,\n",
       " 'split': ' ',\n",
       " 'char_level': False,\n",
       " 'oov_token': None,\n",
       " 'document_count': 18,\n",
       " 'word_counts': '{\"story\": 2, \"of\": 8, \"a\": 11, \"man\": 3, \"who\": 2, \"has\": 2, \"unnatural\": 1, \"feelings\": 1, \"for\": 3, \"pig\": 1, \"br\": 1, \"starts\": 1, \"out\": 2, \"with\": 6, \"opening\": 1, \"scene\": 1, \"that\": 1, \"is\": 5, \"terrific\": 1, \"example\": 1, \"absurd\": 2, \"comedy\": 1, \"formal\": 1, \"orchestra\": 1, \"audience\": 2, \"turned\": 2, \"into\": 1, \"an\": 3, \"insane\": 1, \"violent\": 1, \"mob\": 1, \"by\": 4, \"the\": 18, \"crazy\": 1, \"chantings\": 1, \"it\\'s\": 2, \"singers\": 1, \"unfortunately\": 1, \"it\": 3, \"stays\": 1, \"whole\": 1, \"time\": 2, \"no\": 1, \"general\": 1, \"narrative\": 1, \"eventually\": 1, \"making\": 1, \"just\": 1, \"too\": 1, \"off\": 2, \"putting\": 1, \"even\": 1, \"those\": 1, \"from\": 1, \"era\": 1, \"should\": 3, \"be\": 3, \"cryptic\": 1, \"dialogue\": 1, \"would\": 1, \"make\": 1, \"shakespeare\": 1, \"seem\": 1, \"easy\": 1, \"to\": 7, \"third\": 1, \"grader\": 1, \"on\": 2, \"technical\": 1, \"level\": 1, \"better\": 1, \"than\": 1, \"you\": 1, \"might\": 1, \"think\": 1, \"some\": 2, \"good\": 1, \"cinematography\": 1, \"future\": 2, \"great\": 1, \"vilmos\": 1, \"zsigmond\": 1, \"stars\": 2, \"sally\": 1, \"kirkland\": 1, \"and\": 9, \"frederic\": 1, \"forrest\": 1, \"can\": 1, \"seen\": 2, \"briefly\": 1, \"i\\'ve\": 1, \"this\": 5, \"before\": 1, \"but\": 3, \"my\": 2, \"kids\": 1, \"haven\\'t\": 1, \"boy\": 1, \"troubled\": 2, \"past\": 2, \"joins\": 1, \"military\": 1, \"faces\": 1, \"his\": 4, \"falls\": 1, \"in\": 2, \"love\": 2, \"becomes\": 1, \"mentor\": 1, \"played\": 2, \"perfectly\": 1, \"kevin\": 1, \"costner\": 3, \"ordinary\": 1, \"common\": 1, \"everyday\": 1, \"problems\": 1, \"lives\": 2, \"extraordinary\": 1, \"conviction\": 1, \"save\": 1, \"after\": 1, \"losing\": 1, \"team\": 1, \"he\": 2, \"takes\": 1, \"teaching\": 1, \"position\": 1, \"training\": 1, \"next\": 1, \"generation\": 1, \"heroes\": 1, \"young\": 1, \"recruit\": 1, \"kutcher\": 1, \"while\": 1, \"scenes\": 2, \"local\": 1, \"interest\": 1, \"are\": 3, \"tad\": 1, \"stiff\": 1, \"don\\'t\": 1, \"generate\": 1, \"enough\": 1, \"heat\": 1, \"melt\": 1, \"butter\": 1, \"compliments\": 1, \"well\": 2, \"i\": 1, \"never\": 1, \"really\": 1, \"understood\": 1, \"sela\": 1, \"ward\": 1, \"as\": 2, \"neglected\": 1, \"wife\": 1, \"felt\": 1, \"she\": 1, \"wanted\": 1, \"quit\": 1, \"concern\": 1, \"safety\": 1, \"opposed\": 1, \"her\": 2, \"selfish\": 1, \"needs\": 1, \"presence\": 1, \"screen\": 1, \"pleasure\": 1, \"two\": 2, \"unaccredited\": 1, \"movie\": 4, \"coast\": 1, \"guard\": 1, \"sea\": 1, \"both\": 1, \"powerful\": 1, \"forces\": 1, \"which\": 1, \"not\": 1, \"taken\": 1, \"granted\": 1, \"real\": 1, \"life\": 1, \"or\": 1, \"slow\": 1, \"spots\": 1, \"could\": 1, \"have\": 1, \"used\": 1, \"wasted\": 1, \"15\": 1, \"minutes\": 1, \"strengthen\": 1, \"character\": 1, \"relationships\": 1, \"still\": 1, \"works\": 1, \"rescue\": 1, \"intense\": 1, \"filmed\": 1, \"edited\": 1, \"provide\": 1, \"maximum\": 1, \"impact\": 1, \"earns\": 1, \"applause\": 2, \"sons\": 1}',\n",
       " 'word_docs': '{\"story\": 2, \"feelings\": 1, \"starts\": 1, \"terrific\": 1, \"for\": 3, \"comedy\": 1, \"pig\": 1, \"scene\": 1, \"of\": 6, \"with\": 6, \"is\": 5, \"example\": 1, \"unnatural\": 1, \"a\": 8, \"absurd\": 2, \"who\": 2, \"man\": 3, \"br\": 1, \"out\": 2, \"that\": 1, \"has\": 2, \"opening\": 1, \"an\": 2, \"orchestra\": 1, \"violent\": 1, \"insane\": 1, \"mob\": 1, \"into\": 1, \"by\": 4, \"the\": 12, \"it\\'s\": 2, \"singers\": 1, \"formal\": 1, \"turned\": 2, \"chantings\": 1, \"audience\": 2, \"crazy\": 1, \"putting\": 1, \"unfortunately\": 1, \"no\": 1, \"off\": 2, \"stays\": 1, \"narrative\": 1, \"eventually\": 1, \"making\": 1, \"whole\": 1, \"time\": 2, \"too\": 1, \"it\": 2, \"general\": 1, \"just\": 1, \"cryptic\": 1, \"would\": 1, \"era\": 1, \"be\": 3, \"third\": 1, \"seem\": 1, \"shakespeare\": 1, \"make\": 1, \"to\": 6, \"grader\": 1, \"easy\": 1, \"should\": 3, \"those\": 1, \"even\": 1, \"dialogue\": 1, \"from\": 1, \"some\": 2, \"future\": 2, \"on\": 2, \"than\": 1, \"better\": 1, \"cinematography\": 1, \"great\": 1, \"think\": 1, \"vilmos\": 1, \"technical\": 1, \"you\": 1, \"might\": 1, \"level\": 1, \"good\": 1, \"zsigmond\": 1, \"forrest\": 1, \"can\": 1, \"stars\": 2, \"briefly\": 1, \"frederic\": 1, \"sally\": 1, \"kirkland\": 1, \"and\": 8, \"seen\": 2, \"but\": 3, \"my\": 2, \"kids\": 1, \"this\": 5, \"before\": 1, \"i\\'ve\": 1, \"haven\\'t\": 1, \"past\": 1, \"love\": 2, \"faces\": 1, \"troubled\": 2, \"boy\": 1, \"becomes\": 1, \"joins\": 1, \"his\": 4, \"military\": 1, \"falls\": 1, \"in\": 2, \"conviction\": 1, \"played\": 2, \"lives\": 1, \"common\": 1, \"kevin\": 1, \"perfectly\": 1, \"costner\": 3, \"save\": 1, \"ordinary\": 1, \"mentor\": 1, \"everyday\": 1, \"extraordinary\": 1, \"problems\": 1, \"heroes\": 1, \"after\": 1, \"training\": 1, \"next\": 1, \"team\": 1, \"losing\": 1, \"teaching\": 1, \"generation\": 1, \"takes\": 1, \"he\": 2, \"position\": 1, \"young\": 1, \"kutcher\": 1, \"recruit\": 1, \"generate\": 1, \"heat\": 1, \"compliments\": 1, \"are\": 3, \"scenes\": 2, \"melt\": 1, \"interest\": 1, \"while\": 1, \"don\\'t\": 1, \"enough\": 1, \"stiff\": 1, \"well\": 2, \"butter\": 1, \"local\": 1, \"tad\": 1, \"i\": 1, \"wife\": 1, \"felt\": 1, \"needs\": 1, \"wanted\": 1, \"as\": 1, \"opposed\": 1, \"her\": 2, \"really\": 1, \"understood\": 1, \"neglected\": 1, \"concern\": 1, \"safety\": 1, \"ward\": 1, \"selfish\": 1, \"sela\": 1, \"quit\": 1, \"never\": 1, \"she\": 1, \"coast\": 1, \"guard\": 1, \"pleasure\": 1, \"presence\": 1, \"two\": 2, \"movie\": 4, \"sea\": 1, \"unaccredited\": 1, \"screen\": 1, \"taken\": 1, \"real\": 1, \"which\": 1, \"powerful\": 1, \"granted\": 1, \"forces\": 1, \"not\": 1, \"or\": 1, \"both\": 1, \"life\": 1, \"strengthen\": 1, \"have\": 1, \"character\": 1, \"wasted\": 1, \"15\": 1, \"slow\": 1, \"minutes\": 1, \"relationships\": 1, \"spots\": 1, \"used\": 1, \"could\": 1, \"intense\": 1, \"works\": 1, \"rescue\": 1, \"filmed\": 1, \"maximum\": 1, \"provide\": 1, \"edited\": 1, \"still\": 1, \"impact\": 1, \"earns\": 1, \"applause\": 1, \"sons\": 1}',\n",
       " 'index_docs': '{\"21\": 2, \"51\": 1, \"54\": 1, \"58\": 1, \"13\": 3, \"60\": 1, \"52\": 1, \"56\": 1, \"4\": 6, \"6\": 6, \"7\": 5, \"59\": 1, \"50\": 1, \"2\": 8, \"25\": 2, \"22\": 2, \"12\": 3, \"53\": 1, \"24\": 2, \"57\": 1, \"23\": 2, \"55\": 1, \"14\": 2, \"62\": 1, \"65\": 1, \"64\": 1, \"66\": 1, \"63\": 1, \"9\": 4, \"1\": 12, \"28\": 2, \"69\": 1, \"61\": 1, \"27\": 2, \"68\": 1, \"26\": 2, \"67\": 1, \"80\": 1, \"70\": 1, \"73\": 1, \"30\": 2, \"71\": 1, \"75\": 1, \"76\": 1, \"77\": 1, \"72\": 1, \"29\": 2, \"79\": 1, \"15\": 2, \"74\": 1, \"78\": 1, \"85\": 1, \"87\": 1, \"84\": 1, \"17\": 3, \"92\": 1, \"90\": 1, \"89\": 1, \"88\": 1, \"5\": 6, \"93\": 1, \"91\": 1, \"16\": 3, \"82\": 1, \"81\": 1, \"86\": 1, \"83\": 1, \"32\": 2, \"33\": 2, \"31\": 2, \"97\": 1, \"96\": 1, \"102\": 1, \"103\": 1, \"100\": 1, \"104\": 1, \"94\": 1, \"98\": 1, \"99\": 1, \"95\": 1, \"101\": 1, \"105\": 1, \"109\": 1, \"110\": 1, \"34\": 2, \"111\": 1, \"108\": 1, \"106\": 1, \"107\": 1, \"3\": 8, \"35\": 2, \"18\": 3, \"36\": 2, \"114\": 1, \"8\": 5, \"113\": 1, \"112\": 1, \"115\": 1, \"38\": 1, \"40\": 2, \"119\": 1, \"37\": 2, \"116\": 1, \"121\": 1, \"117\": 1, \"10\": 4, \"118\": 1, \"120\": 1, \"39\": 2, \"130\": 1, \"41\": 2, \"42\": 1, \"126\": 1, \"124\": 1, \"123\": 1, \"19\": 3, \"131\": 1, \"125\": 1, \"122\": 1, \"127\": 1, \"129\": 1, \"128\": 1, \"141\": 1, \"132\": 1, \"138\": 1, \"139\": 1, \"134\": 1, \"133\": 1, \"136\": 1, \"140\": 1, \"135\": 1, \"43\": 2, \"137\": 1, \"142\": 1, \"144\": 1, \"143\": 1, \"151\": 1, \"153\": 1, \"156\": 1, \"20\": 3, \"44\": 2, \"154\": 1, \"147\": 1, \"145\": 1, \"150\": 1, \"152\": 1, \"149\": 1, \"45\": 2, \"155\": 1, \"146\": 1, \"148\": 1, \"157\": 1, \"164\": 1, \"165\": 1, \"173\": 1, \"167\": 1, \"46\": 1, \"171\": 1, \"47\": 2, \"159\": 1, \"160\": 1, \"163\": 1, \"169\": 1, \"170\": 1, \"162\": 1, \"172\": 1, \"161\": 1, \"168\": 1, \"158\": 1, \"166\": 1, \"178\": 1, \"179\": 1, \"176\": 1, \"174\": 1, \"48\": 2, \"11\": 4, \"180\": 1, \"177\": 1, \"175\": 1, \"186\": 1, \"188\": 1, \"184\": 1, \"182\": 1, \"187\": 1, \"183\": 1, \"185\": 1, \"190\": 1, \"181\": 1, \"189\": 1, \"199\": 1, \"194\": 1, \"200\": 1, \"196\": 1, \"197\": 1, \"191\": 1, \"198\": 1, \"201\": 1, \"192\": 1, \"195\": 1, \"193\": 1, \"205\": 1, \"203\": 1, \"204\": 1, \"206\": 1, \"209\": 1, \"208\": 1, \"207\": 1, \"202\": 1, \"210\": 1, \"211\": 1, \"49\": 1, \"212\": 1}',\n",
       " 'index_word': '{\"1\": \"the\", \"2\": \"a\", \"3\": \"and\", \"4\": \"of\", \"5\": \"to\", \"6\": \"with\", \"7\": \"is\", \"8\": \"this\", \"9\": \"by\", \"10\": \"his\", \"11\": \"movie\", \"12\": \"man\", \"13\": \"for\", \"14\": \"an\", \"15\": \"it\", \"16\": \"should\", \"17\": \"be\", \"18\": \"but\", \"19\": \"costner\", \"20\": \"are\", \"21\": \"story\", \"22\": \"who\", \"23\": \"has\", \"24\": \"out\", \"25\": \"absurd\", \"26\": \"audience\", \"27\": \"turned\", \"28\": \"it\\'s\", \"29\": \"time\", \"30\": \"off\", \"31\": \"on\", \"32\": \"some\", \"33\": \"future\", \"34\": \"stars\", \"35\": \"seen\", \"36\": \"my\", \"37\": \"troubled\", \"38\": \"past\", \"39\": \"in\", \"40\": \"love\", \"41\": \"played\", \"42\": \"lives\", \"43\": \"he\", \"44\": \"scenes\", \"45\": \"well\", \"46\": \"as\", \"47\": \"her\", \"48\": \"two\", \"49\": \"applause\", \"50\": \"unnatural\", \"51\": \"feelings\", \"52\": \"pig\", \"53\": \"br\", \"54\": \"starts\", \"55\": \"opening\", \"56\": \"scene\", \"57\": \"that\", \"58\": \"terrific\", \"59\": \"example\", \"60\": \"comedy\", \"61\": \"formal\", \"62\": \"orchestra\", \"63\": \"into\", \"64\": \"insane\", \"65\": \"violent\", \"66\": \"mob\", \"67\": \"crazy\", \"68\": \"chantings\", \"69\": \"singers\", \"70\": \"unfortunately\", \"71\": \"stays\", \"72\": \"whole\", \"73\": \"no\", \"74\": \"general\", \"75\": \"narrative\", \"76\": \"eventually\", \"77\": \"making\", \"78\": \"just\", \"79\": \"too\", \"80\": \"putting\", \"81\": \"even\", \"82\": \"those\", \"83\": \"from\", \"84\": \"era\", \"85\": \"cryptic\", \"86\": \"dialogue\", \"87\": \"would\", \"88\": \"make\", \"89\": \"shakespeare\", \"90\": \"seem\", \"91\": \"easy\", \"92\": \"third\", \"93\": \"grader\", \"94\": \"technical\", \"95\": \"level\", \"96\": \"better\", \"97\": \"than\", \"98\": \"you\", \"99\": \"might\", \"100\": \"think\", \"101\": \"good\", \"102\": \"cinematography\", \"103\": \"great\", \"104\": \"vilmos\", \"105\": \"zsigmond\", \"106\": \"sally\", \"107\": \"kirkland\", \"108\": \"frederic\", \"109\": \"forrest\", \"110\": \"can\", \"111\": \"briefly\", \"112\": \"i\\'ve\", \"113\": \"before\", \"114\": \"kids\", \"115\": \"haven\\'t\", \"116\": \"boy\", \"117\": \"joins\", \"118\": \"military\", \"119\": \"faces\", \"120\": \"falls\", \"121\": \"becomes\", \"122\": \"mentor\", \"123\": \"perfectly\", \"124\": \"kevin\", \"125\": \"ordinary\", \"126\": \"common\", \"127\": \"everyday\", \"128\": \"problems\", \"129\": \"extraordinary\", \"130\": \"conviction\", \"131\": \"save\", \"132\": \"after\", \"133\": \"losing\", \"134\": \"team\", \"135\": \"takes\", \"136\": \"teaching\", \"137\": \"position\", \"138\": \"training\", \"139\": \"next\", \"140\": \"generation\", \"141\": \"heroes\", \"142\": \"young\", \"143\": \"recruit\", \"144\": \"kutcher\", \"145\": \"while\", \"146\": \"local\", \"147\": \"interest\", \"148\": \"tad\", \"149\": \"stiff\", \"150\": \"don\\'t\", \"151\": \"generate\", \"152\": \"enough\", \"153\": \"heat\", \"154\": \"melt\", \"155\": \"butter\", \"156\": \"compliments\", \"157\": \"i\", \"158\": \"never\", \"159\": \"really\", \"160\": \"understood\", \"161\": \"sela\", \"162\": \"ward\", \"163\": \"neglected\", \"164\": \"wife\", \"165\": \"felt\", \"166\": \"she\", \"167\": \"wanted\", \"168\": \"quit\", \"169\": \"concern\", \"170\": \"safety\", \"171\": \"opposed\", \"172\": \"selfish\", \"173\": \"needs\", \"174\": \"presence\", \"175\": \"screen\", \"176\": \"pleasure\", \"177\": \"unaccredited\", \"178\": \"coast\", \"179\": \"guard\", \"180\": \"sea\", \"181\": \"both\", \"182\": \"powerful\", \"183\": \"forces\", \"184\": \"which\", \"185\": \"not\", \"186\": \"taken\", \"187\": \"granted\", \"188\": \"real\", \"189\": \"life\", \"190\": \"or\", \"191\": \"slow\", \"192\": \"spots\", \"193\": \"could\", \"194\": \"have\", \"195\": \"used\", \"196\": \"wasted\", \"197\": \"15\", \"198\": \"minutes\", \"199\": \"strengthen\", \"200\": \"character\", \"201\": \"relationships\", \"202\": \"still\", \"203\": \"works\", \"204\": \"rescue\", \"205\": \"intense\", \"206\": \"filmed\", \"207\": \"edited\", \"208\": \"provide\", \"209\": \"maximum\", \"210\": \"impact\", \"211\": \"earns\", \"212\": \"sons\"}',\n",
       " 'word_index': '{\"the\": 1, \"a\": 2, \"and\": 3, \"of\": 4, \"to\": 5, \"with\": 6, \"is\": 7, \"this\": 8, \"by\": 9, \"his\": 10, \"movie\": 11, \"man\": 12, \"for\": 13, \"an\": 14, \"it\": 15, \"should\": 16, \"be\": 17, \"but\": 18, \"costner\": 19, \"are\": 20, \"story\": 21, \"who\": 22, \"has\": 23, \"out\": 24, \"absurd\": 25, \"audience\": 26, \"turned\": 27, \"it\\'s\": 28, \"time\": 29, \"off\": 30, \"on\": 31, \"some\": 32, \"future\": 33, \"stars\": 34, \"seen\": 35, \"my\": 36, \"troubled\": 37, \"past\": 38, \"in\": 39, \"love\": 40, \"played\": 41, \"lives\": 42, \"he\": 43, \"scenes\": 44, \"well\": 45, \"as\": 46, \"her\": 47, \"two\": 48, \"applause\": 49, \"unnatural\": 50, \"feelings\": 51, \"pig\": 52, \"br\": 53, \"starts\": 54, \"opening\": 55, \"scene\": 56, \"that\": 57, \"terrific\": 58, \"example\": 59, \"comedy\": 60, \"formal\": 61, \"orchestra\": 62, \"into\": 63, \"insane\": 64, \"violent\": 65, \"mob\": 66, \"crazy\": 67, \"chantings\": 68, \"singers\": 69, \"unfortunately\": 70, \"stays\": 71, \"whole\": 72, \"no\": 73, \"general\": 74, \"narrative\": 75, \"eventually\": 76, \"making\": 77, \"just\": 78, \"too\": 79, \"putting\": 80, \"even\": 81, \"those\": 82, \"from\": 83, \"era\": 84, \"cryptic\": 85, \"dialogue\": 86, \"would\": 87, \"make\": 88, \"shakespeare\": 89, \"seem\": 90, \"easy\": 91, \"third\": 92, \"grader\": 93, \"technical\": 94, \"level\": 95, \"better\": 96, \"than\": 97, \"you\": 98, \"might\": 99, \"think\": 100, \"good\": 101, \"cinematography\": 102, \"great\": 103, \"vilmos\": 104, \"zsigmond\": 105, \"sally\": 106, \"kirkland\": 107, \"frederic\": 108, \"forrest\": 109, \"can\": 110, \"briefly\": 111, \"i\\'ve\": 112, \"before\": 113, \"kids\": 114, \"haven\\'t\": 115, \"boy\": 116, \"joins\": 117, \"military\": 118, \"faces\": 119, \"falls\": 120, \"becomes\": 121, \"mentor\": 122, \"perfectly\": 123, \"kevin\": 124, \"ordinary\": 125, \"common\": 126, \"everyday\": 127, \"problems\": 128, \"extraordinary\": 129, \"conviction\": 130, \"save\": 131, \"after\": 132, \"losing\": 133, \"team\": 134, \"takes\": 135, \"teaching\": 136, \"position\": 137, \"training\": 138, \"next\": 139, \"generation\": 140, \"heroes\": 141, \"young\": 142, \"recruit\": 143, \"kutcher\": 144, \"while\": 145, \"local\": 146, \"interest\": 147, \"tad\": 148, \"stiff\": 149, \"don\\'t\": 150, \"generate\": 151, \"enough\": 152, \"heat\": 153, \"melt\": 154, \"butter\": 155, \"compliments\": 156, \"i\": 157, \"never\": 158, \"really\": 159, \"understood\": 160, \"sela\": 161, \"ward\": 162, \"neglected\": 163, \"wife\": 164, \"felt\": 165, \"she\": 166, \"wanted\": 167, \"quit\": 168, \"concern\": 169, \"safety\": 170, \"opposed\": 171, \"selfish\": 172, \"needs\": 173, \"presence\": 174, \"screen\": 175, \"pleasure\": 176, \"unaccredited\": 177, \"coast\": 178, \"guard\": 179, \"sea\": 180, \"both\": 181, \"powerful\": 182, \"forces\": 183, \"which\": 184, \"not\": 185, \"taken\": 186, \"granted\": 187, \"real\": 188, \"life\": 189, \"or\": 190, \"slow\": 191, \"spots\": 192, \"could\": 193, \"have\": 194, \"used\": 195, \"wasted\": 196, \"15\": 197, \"minutes\": 198, \"strengthen\": 199, \"character\": 200, \"relationships\": 201, \"still\": 202, \"works\": 203, \"rescue\": 204, \"intense\": 205, \"filmed\": 206, \"edited\": 207, \"provide\": 208, \"maximum\": 209, \"impact\": 210, \"earns\": 211, \"sons\": 212}'}"
      ]
     },
     "execution_count": 36,
     "metadata": {},
     "output_type": "execute_result"
    }
   ],
   "source": [
    "tokenizer.get_config()"
   ]
  },
  {
   "cell_type": "code",
   "execution_count": 42,
   "metadata": {},
   "outputs": [
    {
     "data": {
      "text/html": [
       "<div>\n",
       "<style scoped>\n",
       "    .dataframe tbody tr th:only-of-type {\n",
       "        vertical-align: middle;\n",
       "    }\n",
       "\n",
       "    .dataframe tbody tr th {\n",
       "        vertical-align: top;\n",
       "    }\n",
       "\n",
       "    .dataframe thead th {\n",
       "        text-align: right;\n",
       "    }\n",
       "</style>\n",
       "<table border=\"1\" class=\"dataframe\">\n",
       "  <thead>\n",
       "    <tr style=\"text-align: right;\">\n",
       "      <th></th>\n",
       "      <th>token_index</th>\n",
       "      <th>token</th>\n",
       "    </tr>\n",
       "  </thead>\n",
       "  <tbody>\n",
       "    <tr>\n",
       "      <td>0</td>\n",
       "      <td>1</td>\n",
       "      <td>the</td>\n",
       "    </tr>\n",
       "    <tr>\n",
       "      <td>1</td>\n",
       "      <td>2</td>\n",
       "      <td>a</td>\n",
       "    </tr>\n",
       "    <tr>\n",
       "      <td>2</td>\n",
       "      <td>3</td>\n",
       "      <td>and</td>\n",
       "    </tr>\n",
       "    <tr>\n",
       "      <td>3</td>\n",
       "      <td>4</td>\n",
       "      <td>of</td>\n",
       "    </tr>\n",
       "    <tr>\n",
       "      <td>4</td>\n",
       "      <td>5</td>\n",
       "      <td>to</td>\n",
       "    </tr>\n",
       "  </tbody>\n",
       "</table>\n",
       "</div>"
      ],
      "text/plain": [
       "   token_index token\n",
       "0            1   the\n",
       "1            2     a\n",
       "2            3   and\n",
       "3            4    of\n",
       "4            5    to"
      ]
     },
     "execution_count": 42,
     "metadata": {},
     "output_type": "execute_result"
    }
   ],
   "source": [
    "# store in data frame\n",
    "df_index_word = pd.Series(tokenizer.index_word).reset_index()\n",
    "df_index_word.columns=['token_index','token',]\n",
    "df_index_word.head()"
   ]
  },
  {
   "cell_type": "code",
   "execution_count": 43,
   "metadata": {},
   "outputs": [
    {
     "data": {
      "text/html": [
       "<div>\n",
       "<style scoped>\n",
       "    .dataframe tbody tr th:only-of-type {\n",
       "        vertical-align: middle;\n",
       "    }\n",
       "\n",
       "    .dataframe tbody tr th {\n",
       "        vertical-align: top;\n",
       "    }\n",
       "\n",
       "    .dataframe thead th {\n",
       "        text-align: right;\n",
       "    }\n",
       "</style>\n",
       "<table border=\"1\" class=\"dataframe\">\n",
       "  <thead>\n",
       "    <tr style=\"text-align: right;\">\n",
       "      <th></th>\n",
       "      <th>token_index</th>\n",
       "      <th>token</th>\n",
       "      <th>count</th>\n",
       "    </tr>\n",
       "  </thead>\n",
       "  <tbody>\n",
       "    <tr>\n",
       "      <td>0</td>\n",
       "      <td>1</td>\n",
       "      <td>the</td>\n",
       "      <td>18</td>\n",
       "    </tr>\n",
       "    <tr>\n",
       "      <td>1</td>\n",
       "      <td>2</td>\n",
       "      <td>a</td>\n",
       "      <td>11</td>\n",
       "    </tr>\n",
       "    <tr>\n",
       "      <td>2</td>\n",
       "      <td>3</td>\n",
       "      <td>and</td>\n",
       "      <td>9</td>\n",
       "    </tr>\n",
       "    <tr>\n",
       "      <td>3</td>\n",
       "      <td>4</td>\n",
       "      <td>of</td>\n",
       "      <td>8</td>\n",
       "    </tr>\n",
       "    <tr>\n",
       "      <td>4</td>\n",
       "      <td>5</td>\n",
       "      <td>to</td>\n",
       "      <td>7</td>\n",
       "    </tr>\n",
       "  </tbody>\n",
       "</table>\n",
       "</div>"
      ],
      "text/plain": [
       "   token_index token  count\n",
       "0            1   the     18\n",
       "1            2     a     11\n",
       "2            3   and      9\n",
       "3            4    of      8\n",
       "4            5    to      7"
      ]
     },
     "execution_count": 43,
     "metadata": {},
     "output_type": "execute_result"
    }
   ],
   "source": [
    "# show that the token-id/token-index is sorted by count (but if count number are the same, it might end up random)\n",
    "df_token_by_count = pd.DataFrame(tokenizer.word_counts.items())\n",
    "df_token_by_count.columns=['token', 'count']\n",
    "df_token_by_count = pd.merge(df_index_word, df_token_by_count,\n",
    "                            on='token',\n",
    "                            how='left')\n",
    "df_token_by_count.head()"
   ]
  },
  {
   "cell_type": "code",
   "execution_count": 48,
   "metadata": {},
   "outputs": [
    {
     "name": "stdout",
     "output_type": "stream",
     "text": [
      "Story of a man who has unnatural feelings for a pig.  <br>  Starts out with a opening scene that is a terrific example of absurd comedy. \n",
      "['story', 'of', 'a', 'man', 'who', 'has', 'unnatural', 'feelings', 'for', 'a', 'pig', 'br', 'starts', 'out', 'with', 'a', 'opening', 'scene', 'that', 'is', 'a', 'terrific', 'example', 'of', 'absurd', 'comedy']\n",
      "\n",
      "[21, 4, 2, 12, 22, 23, 50, 51, 13, 2, 52, 53, 54, 24, 6, 2, 55, 56, 57, 7, 2, 58, 59, 4, 25, 60]\n",
      "[21, 4, 2, 12, 22, 23, 13, 2, 24, 6, 2, 7, 2, 4, 25]\n"
     ]
    }
   ],
   "source": [
    "# compare the number of tokens and tokens after cut-off\n",
    "train_sequences = tokenizer.texts_to_sequences(raw_text) #Converting text to a vector of word indexes\n",
    "# print(len(text_to_word_sequence(raw_text[0])), len(train_sequences[0]))\n",
    "print(raw_text[0])\n",
    "print(text_to_word_sequence(raw_text[0]))\n",
    "print()\n",
    "tokenizer.num_words = None # take all the tokens\n",
    "print(tokenizer.texts_to_sequences(raw_text)[0])\n",
    "tokenizer.num_words = 50 # take the top 50-1 tokens\n",
    "print(tokenizer.texts_to_sequences(raw_text)[0])\n"
   ]
  },
  {
   "cell_type": "code",
   "execution_count": 13,
   "metadata": {},
   "outputs": [
    {
     "name": "stdout",
     "output_type": "stream",
     "text": [
      "['Storys of a woman...']\n",
      "['storys', 'of', 'a', 'woman']\n",
      "[[4, 2]]\n"
     ]
    }
   ],
   "source": [
    "# OOV demo\n",
    "test_sequence = ['Storys of a woman...'] \n",
    "print(test_sequence)\n",
    "print(text_to_word_sequence(test_sequence[0]))\n",
    "print(tokenizer.texts_to_sequences(test_sequence))"
   ]
  },
  {
   "cell_type": "code",
   "execution_count": 14,
   "metadata": {},
   "outputs": [
    {
     "data": {
      "text/plain": [
       "array([[21, 'story'],\n",
       "       [4, 'of'],\n",
       "       [2, 'a'],\n",
       "       [12, 'man'],\n",
       "       [22, 'who'],\n",
       "       [23, 'has'],\n",
       "       [13, 'for'],\n",
       "       [2, 'a'],\n",
       "       [24, 'out'],\n",
       "       [6, 'with'],\n",
       "       [2, 'a'],\n",
       "       [7, 'is'],\n",
       "       [2, 'a'],\n",
       "       [4, 'of'],\n",
       "       [25, 'absurd']], dtype=object)"
      ]
     },
     "execution_count": 14,
     "metadata": {},
     "output_type": "execute_result"
    }
   ],
   "source": [
    "# display the token-id and associated token\n",
    "df_word_index = pd.Series(word_index).reset_index()\n",
    "df_word_index.columns=['token','token_index']\n",
    "# df_word_index\n",
    "df_check = pd.merge(pd.DataFrame({'token_index':train_sequences[0]}),\n",
    "        df_word_index,\n",
    "        on='token_index',\n",
    "        how='left')\n",
    "df_check.values"
   ]
  },
  {
   "cell_type": "code",
   "execution_count": 15,
   "metadata": {},
   "outputs": [
    {
     "data": {
      "text/html": [
       "<div>\n",
       "<style scoped>\n",
       "    .dataframe tbody tr th:only-of-type {\n",
       "        vertical-align: middle;\n",
       "    }\n",
       "\n",
       "    .dataframe tbody tr th {\n",
       "        vertical-align: top;\n",
       "    }\n",
       "\n",
       "    .dataframe thead th {\n",
       "        text-align: right;\n",
       "    }\n",
       "</style>\n",
       "<table border=\"1\" class=\"dataframe\">\n",
       "  <thead>\n",
       "    <tr style=\"text-align: right;\">\n",
       "      <th></th>\n",
       "      <th>token</th>\n",
       "      <th>token_index</th>\n",
       "    </tr>\n",
       "  </thead>\n",
       "  <tbody>\n",
       "    <tr>\n",
       "      <td>6</td>\n",
       "      <td>unnatural</td>\n",
       "      <td>50</td>\n",
       "    </tr>\n",
       "    <tr>\n",
       "      <td>7</td>\n",
       "      <td>feelings</td>\n",
       "      <td>51</td>\n",
       "    </tr>\n",
       "    <tr>\n",
       "      <td>10</td>\n",
       "      <td>pig</td>\n",
       "      <td>52</td>\n",
       "    </tr>\n",
       "    <tr>\n",
       "      <td>11</td>\n",
       "      <td>br</td>\n",
       "      <td>53</td>\n",
       "    </tr>\n",
       "    <tr>\n",
       "      <td>12</td>\n",
       "      <td>starts</td>\n",
       "      <td>54</td>\n",
       "    </tr>\n",
       "    <tr>\n",
       "      <td>16</td>\n",
       "      <td>opening</td>\n",
       "      <td>55</td>\n",
       "    </tr>\n",
       "    <tr>\n",
       "      <td>17</td>\n",
       "      <td>scene</td>\n",
       "      <td>56</td>\n",
       "    </tr>\n",
       "    <tr>\n",
       "      <td>18</td>\n",
       "      <td>that</td>\n",
       "      <td>57</td>\n",
       "    </tr>\n",
       "    <tr>\n",
       "      <td>21</td>\n",
       "      <td>terrific</td>\n",
       "      <td>58</td>\n",
       "    </tr>\n",
       "    <tr>\n",
       "      <td>22</td>\n",
       "      <td>example</td>\n",
       "      <td>59</td>\n",
       "    </tr>\n",
       "    <tr>\n",
       "      <td>25</td>\n",
       "      <td>comedy</td>\n",
       "      <td>60</td>\n",
       "    </tr>\n",
       "  </tbody>\n",
       "</table>\n",
       "</div>"
      ],
      "text/plain": [
       "        token  token_index\n",
       "6   unnatural           50\n",
       "7    feelings           51\n",
       "10        pig           52\n",
       "11         br           53\n",
       "12     starts           54\n",
       "16    opening           55\n",
       "17      scene           56\n",
       "18       that           57\n",
       "21   terrific           58\n",
       "22    example           59\n",
       "25     comedy           60"
      ]
     },
     "execution_count": 15,
     "metadata": {},
     "output_type": "execute_result"
    }
   ],
   "source": [
    "# check what is not in the final tokenized sequence\n",
    "df_check_2 = pd.merge(pd.DataFrame({'token':text_to_word_sequence(raw_text[0])}),\n",
    "                     df_word_index,\n",
    "                     on='token',\n",
    "#          right_on='token',\n",
    "                      how='left')\n",
    "df_check_2[df_check_2.token_index>=MAX_NUM_TOKENS]"
   ]
  },
  {
   "cell_type": "code",
   "execution_count": 16,
   "metadata": {},
   "outputs": [
    {
     "name": "stderr",
     "output_type": "stream",
     "text": [
      "100%|████████████████████████████████████████████████████████████████████████████████| 18/18 [00:00<00:00, 8877.88it/s]\n"
     ]
    },
    {
     "data": {
      "text/html": [
       "<div>\n",
       "<style scoped>\n",
       "    .dataframe tbody tr th:only-of-type {\n",
       "        vertical-align: middle;\n",
       "    }\n",
       "\n",
       "    .dataframe tbody tr th {\n",
       "        vertical-align: top;\n",
       "    }\n",
       "\n",
       "    .dataframe thead th {\n",
       "        text-align: right;\n",
       "    }\n",
       "</style>\n",
       "<table border=\"1\" class=\"dataframe\">\n",
       "  <thead>\n",
       "    <tr style=\"text-align: right;\">\n",
       "      <th></th>\n",
       "      <th>raw_text</th>\n",
       "      <th>token_sequence</th>\n",
       "    </tr>\n",
       "  </thead>\n",
       "  <tbody>\n",
       "    <tr>\n",
       "      <td>0</td>\n",
       "      <td>Story of a man who has unnatural feelings for ...</td>\n",
       "      <td>[21, 4, 2, 12, 22, 23, 13, 2, 24, 6, 2, 7, 2, ...</td>\n",
       "    </tr>\n",
       "    <tr>\n",
       "      <td>1</td>\n",
       "      <td>A formal orchestra audience is turned into an ...</td>\n",
       "      <td>[2, 26, 7, 27, 14, 9, 1, 4, 28]</td>\n",
       "    </tr>\n",
       "    <tr>\n",
       "      <td>2</td>\n",
       "      <td>Unfortunately it stays absurd the WHOLE time w...</td>\n",
       "      <td>[15, 25, 1, 29, 6, 15, 30]</td>\n",
       "    </tr>\n",
       "    <tr>\n",
       "      <td>3</td>\n",
       "      <td>Even those from the era should be turned off. ...</td>\n",
       "      <td>[1, 16, 17, 27, 30, 1, 5, 2]</td>\n",
       "    </tr>\n",
       "    <tr>\n",
       "      <td>4</td>\n",
       "      <td>On a technical level it's better than you migh...</td>\n",
       "      <td>[31, 2, 28, 6, 32, 9, 33]</td>\n",
       "    </tr>\n",
       "  </tbody>\n",
       "</table>\n",
       "</div>"
      ],
      "text/plain": [
       "                                            raw_text  \\\n",
       "0  Story of a man who has unnatural feelings for ...   \n",
       "1  A formal orchestra audience is turned into an ...   \n",
       "2  Unfortunately it stays absurd the WHOLE time w...   \n",
       "3  Even those from the era should be turned off. ...   \n",
       "4  On a technical level it's better than you migh...   \n",
       "\n",
       "                                      token_sequence  \n",
       "0  [21, 4, 2, 12, 22, 23, 13, 2, 24, 6, 2, 7, 2, ...  \n",
       "1                    [2, 26, 7, 27, 14, 9, 1, 4, 28]  \n",
       "2                         [15, 25, 1, 29, 6, 15, 30]  \n",
       "3                       [1, 16, 17, 27, 30, 1, 5, 2]  \n",
       "4                          [31, 2, 28, 6, 32, 9, 33]  "
      ]
     },
     "execution_count": 16,
     "metadata": {},
     "output_type": "execute_result"
    }
   ],
   "source": [
    "# updata df_text\n",
    "df_text['token_sequence'] = df_text.raw_text.progress_apply(lambda x: tokenizer.texts_to_sequences([x])[0])\n",
    "df_text.head()"
   ]
  },
  {
   "cell_type": "markdown",
   "metadata": {},
   "source": [
    "## Next, Paddding"
   ]
  },
  {
   "cell_type": "code",
   "execution_count": 17,
   "metadata": {},
   "outputs": [],
   "source": [
    "from tensorflow.keras.preprocessing.sequence import pad_sequences"
   ]
  },
  {
   "cell_type": "code",
   "execution_count": 49,
   "metadata": {},
   "outputs": [
    {
     "name": "stdout",
     "output_type": "stream",
     "text": [
      "<class 'list'>\n"
     ]
    },
    {
     "data": {
      "text/plain": [
       "[[21, 4, 2, 12, 22, 23, 13, 2, 24, 6, 2, 7, 2, 4, 25],\n",
       " [2, 26, 7, 27, 14, 9, 1, 4, 28],\n",
       " [15, 25, 1, 29, 6, 15, 30],\n",
       " [1, 16, 17, 27, 30, 1, 5, 2],\n",
       " [31, 2, 28, 6, 32, 9, 33],\n",
       " [33, 34, 3, 17, 35],\n",
       " [35, 8, 21, 18, 36],\n",
       " [6, 37, 38, 10, 38, 39, 40, 3, 2, 12],\n",
       " [1, 8, 29, 7, 41, 9, 19, 14, 12, 6, 22, 42, 14, 5, 42],\n",
       " [10, 43, 2, 1, 4],\n",
       " [1, 37, 7, 41, 9],\n",
       " [10, 44, 6, 1, 40, 20, 2, 3, 5, 43, 19, 45],\n",
       " [46, 1, 3, 16, 4, 19, 5, 24, 4, 13, 10, 46, 5, 47],\n",
       " [18, 47, 31, 7, 2, 1, 48, 34, 4, 8, 11, 20, 1, 3, 1],\n",
       " [16, 17, 13, 39, 8, 11],\n",
       " [1, 11, 23, 32, 3, 1, 5, 1],\n",
       " [18, 15, 1, 44, 20, 3, 45, 3, 5],\n",
       " [8, 11, 1, 26, 49, 3, 1, 49, 4, 36, 48]]"
      ]
     },
     "execution_count": 49,
     "metadata": {},
     "output_type": "execute_result"
    }
   ],
   "source": [
    "print(type(train_sequences))\n",
    "train_sequences"
   ]
  },
  {
   "cell_type": "code",
   "execution_count": 19,
   "metadata": {
    "code_folding": []
   },
   "outputs": [
    {
     "name": "stderr",
     "output_type": "stream",
     "text": [
      "100%|████████████████████████████████████████████████████████████████████████████████| 18/18 [00:00<00:00, 9042.70it/s]"
     ]
    },
    {
     "name": "stdout",
     "output_type": "stream",
     "text": [
      "sequence_length mean:  9.222222222222221\n",
      "sequence_length median:  8.5\n"
     ]
    },
    {
     "name": "stderr",
     "output_type": "stream",
     "text": [
      "\n"
     ]
    },
    {
     "data": {
      "text/plain": [
       "<matplotlib.axes._subplots.AxesSubplot at 0x15f28527b48>"
      ]
     },
     "execution_count": 19,
     "metadata": {},
     "output_type": "execute_result"
    },
    {
     "data": {
      "image/png": "[encoded data removed]",
      "text/plain": [
       "<Figure size 432x288 with 1 Axes>"
      ]
     },
     "metadata": {
      "needs_background": "light"
     },
     "output_type": "display_data"
    }
   ],
   "source": [
    "# ckeck sequence_length stats\n",
    "length_check = df_text.token_sequence.progress_apply(lambda x: len(x))\n",
    "print('sequence_length mean: ', length_check.mean())\n",
    "print('sequence_length median: ', length_check.median())\n",
    "length_check.plot.hist()"
   ]
  },
  {
   "cell_type": "code",
   "execution_count": 20,
   "metadata": {},
   "outputs": [
    {
     "data": {
      "text/plain": [
       "array([[23, 13,  2, 24,  6,  2,  7,  2,  4, 25],\n",
       "       [ 0,  2, 26,  7, 27, 14,  9,  1,  4, 28],\n",
       "       [ 0,  0,  0, 15, 25,  1, 29,  6, 15, 30],\n",
       "       [ 0,  0,  1, 16, 17, 27, 30,  1,  5,  2],\n",
       "       [ 0,  0,  0, 31,  2, 28,  6, 32,  9, 33],\n",
       "       [ 0,  0,  0,  0,  0, 33, 34,  3, 17, 35],\n",
       "       [ 0,  0,  0,  0,  0, 35,  8, 21, 18, 36],\n",
       "       [ 6, 37, 38, 10, 38, 39, 40,  3,  2, 12],\n",
       "       [ 9, 19, 14, 12,  6, 22, 42, 14,  5, 42],\n",
       "       [ 0,  0,  0,  0,  0, 10, 43,  2,  1,  4],\n",
       "       [ 0,  0,  0,  0,  0,  1, 37,  7, 41,  9],\n",
       "       [ 6,  1, 40, 20,  2,  3,  5, 43, 19, 45],\n",
       "       [ 4, 19,  5, 24,  4, 13, 10, 46,  5, 47],\n",
       "       [ 1, 48, 34,  4,  8, 11, 20,  1,  3,  1],\n",
       "       [ 0,  0,  0,  0, 16, 17, 13, 39,  8, 11],\n",
       "       [ 0,  0,  1, 11, 23, 32,  3,  1,  5,  1],\n",
       "       [ 0, 18, 15,  1, 44, 20,  3, 45,  3,  5],\n",
       "       [11,  1, 26, 49,  3,  1, 49,  4, 36, 48]])"
      ]
     },
     "execution_count": 20,
     "metadata": {},
     "output_type": "execute_result"
    }
   ],
   "source": [
    "# padding (pre)\n",
    "MAX_SEQUENCE_LENGTH = 10 # length of the sequence\n",
    "trainvalid_data_pre = pad_sequences(train_sequences, maxlen=MAX_SEQUENCE_LENGTH, \n",
    "                                padding='pre',\n",
    "                                truncating='pre',)\n",
    "trainvalid_data_pre"
   ]
  },
  {
   "cell_type": "code",
   "execution_count": 21,
   "metadata": {},
   "outputs": [
    {
     "data": {
      "text/plain": [
       "array([[21,  4,  2, 12, 22, 23, 13,  2, 24,  6],\n",
       "       [ 2, 26,  7, 27, 14,  9,  1,  4, 28,  0],\n",
       "       [15, 25,  1, 29,  6, 15, 30,  0,  0,  0],\n",
       "       [ 1, 16, 17, 27, 30,  1,  5,  2,  0,  0],\n",
       "       [31,  2, 28,  6, 32,  9, 33,  0,  0,  0],\n",
       "       [33, 34,  3, 17, 35,  0,  0,  0,  0,  0],\n",
       "       [35,  8, 21, 18, 36,  0,  0,  0,  0,  0],\n",
       "       [ 6, 37, 38, 10, 38, 39, 40,  3,  2, 12],\n",
       "       [ 1,  8, 29,  7, 41,  9, 19, 14, 12,  6],\n",
       "       [10, 43,  2,  1,  4,  0,  0,  0,  0,  0],\n",
       "       [ 1, 37,  7, 41,  9,  0,  0,  0,  0,  0],\n",
       "       [10, 44,  6,  1, 40, 20,  2,  3,  5, 43],\n",
       "       [46,  1,  3, 16,  4, 19,  5, 24,  4, 13],\n",
       "       [18, 47, 31,  7,  2,  1, 48, 34,  4,  8],\n",
       "       [16, 17, 13, 39,  8, 11,  0,  0,  0,  0],\n",
       "       [ 1, 11, 23, 32,  3,  1,  5,  1,  0,  0],\n",
       "       [18, 15,  1, 44, 20,  3, 45,  3,  5,  0],\n",
       "       [ 8, 11,  1, 26, 49,  3,  1, 49,  4, 36]])"
      ]
     },
     "execution_count": 21,
     "metadata": {},
     "output_type": "execute_result"
    }
   ],
   "source": [
    "# padding (post), recommended for RNN\n",
    "MAX_SEQUENCE_LENGTH = 10\n",
    "trainvalid_data_post = pad_sequences(train_sequences, maxlen=MAX_SEQUENCE_LENGTH, \n",
    "                                padding='post',\n",
    "                                truncating='post',)\n",
    "trainvalid_data_post"
   ]
  },
  {
   "cell_type": "code",
   "execution_count": 22,
   "metadata": {},
   "outputs": [
    {
     "name": "stderr",
     "output_type": "stream",
     "text": [
      "100%|████████████████████████████████████████████████████████████████████████████████| 18/18 [00:00<00:00, 9014.62it/s]\n"
     ]
    },
    {
     "data": {
      "text/html": [
       "<div>\n",
       "<style scoped>\n",
       "    .dataframe tbody tr th:only-of-type {\n",
       "        vertical-align: middle;\n",
       "    }\n",
       "\n",
       "    .dataframe tbody tr th {\n",
       "        vertical-align: top;\n",
       "    }\n",
       "\n",
       "    .dataframe thead th {\n",
       "        text-align: right;\n",
       "    }\n",
       "</style>\n",
       "<table border=\"1\" class=\"dataframe\">\n",
       "  <thead>\n",
       "    <tr style=\"text-align: right;\">\n",
       "      <th></th>\n",
       "      <th>raw_text</th>\n",
       "      <th>token_sequence</th>\n",
       "      <th>padding</th>\n",
       "    </tr>\n",
       "  </thead>\n",
       "  <tbody>\n",
       "    <tr>\n",
       "      <td>0</td>\n",
       "      <td>Story of a man who has unnatural feelings for ...</td>\n",
       "      <td>[21, 4, 2, 12, 22, 23, 13, 2, 24, 6, 2, 7, 2, ...</td>\n",
       "      <td>[21, 4, 2, 12, 22, 23, 13, 2, 24, 6]</td>\n",
       "    </tr>\n",
       "    <tr>\n",
       "      <td>1</td>\n",
       "      <td>A formal orchestra audience is turned into an ...</td>\n",
       "      <td>[2, 26, 7, 27, 14, 9, 1, 4, 28]</td>\n",
       "      <td>[2, 26, 7, 27, 14, 9, 1, 4, 28, 0]</td>\n",
       "    </tr>\n",
       "    <tr>\n",
       "      <td>2</td>\n",
       "      <td>Unfortunately it stays absurd the WHOLE time w...</td>\n",
       "      <td>[15, 25, 1, 29, 6, 15, 30]</td>\n",
       "      <td>[15, 25, 1, 29, 6, 15, 30, 0, 0, 0]</td>\n",
       "    </tr>\n",
       "    <tr>\n",
       "      <td>3</td>\n",
       "      <td>Even those from the era should be turned off. ...</td>\n",
       "      <td>[1, 16, 17, 27, 30, 1, 5, 2]</td>\n",
       "      <td>[1, 16, 17, 27, 30, 1, 5, 2, 0, 0]</td>\n",
       "    </tr>\n",
       "    <tr>\n",
       "      <td>4</td>\n",
       "      <td>On a technical level it's better than you migh...</td>\n",
       "      <td>[31, 2, 28, 6, 32, 9, 33]</td>\n",
       "      <td>[31, 2, 28, 6, 32, 9, 33, 0, 0, 0]</td>\n",
       "    </tr>\n",
       "  </tbody>\n",
       "</table>\n",
       "</div>"
      ],
      "text/plain": [
       "                                            raw_text  \\\n",
       "0  Story of a man who has unnatural feelings for ...   \n",
       "1  A formal orchestra audience is turned into an ...   \n",
       "2  Unfortunately it stays absurd the WHOLE time w...   \n",
       "3  Even those from the era should be turned off. ...   \n",
       "4  On a technical level it's better than you migh...   \n",
       "\n",
       "                                      token_sequence  \\\n",
       "0  [21, 4, 2, 12, 22, 23, 13, 2, 24, 6, 2, 7, 2, ...   \n",
       "1                    [2, 26, 7, 27, 14, 9, 1, 4, 28]   \n",
       "2                         [15, 25, 1, 29, 6, 15, 30]   \n",
       "3                       [1, 16, 17, 27, 30, 1, 5, 2]   \n",
       "4                          [31, 2, 28, 6, 32, 9, 33]   \n",
       "\n",
       "                                padding  \n",
       "0  [21, 4, 2, 12, 22, 23, 13, 2, 24, 6]  \n",
       "1    [2, 26, 7, 27, 14, 9, 1, 4, 28, 0]  \n",
       "2   [15, 25, 1, 29, 6, 15, 30, 0, 0, 0]  \n",
       "3    [1, 16, 17, 27, 30, 1, 5, 2, 0, 0]  \n",
       "4    [31, 2, 28, 6, 32, 9, 33, 0, 0, 0]  "
      ]
     },
     "execution_count": 22,
     "metadata": {},
     "output_type": "execute_result"
    }
   ],
   "source": [
    "# padding dataframe\n",
    "df_text['padding'] = df_text.token_sequence.progress_apply(lambda x: \\\n",
    "                            pad_sequences([x], maxlen=MAX_SEQUENCE_LENGTH, \n",
    "                            padding='post',\n",
    "                            truncating='post',)[0])\n",
    "df_text.head()"
   ]
  },
  {
   "cell_type": "markdown",
   "metadata": {},
   "source": [
    "## word embedding, use pre-trained model (SpaCy)"
   ]
  },
  {
   "cell_type": "code",
   "execution_count": 23,
   "metadata": {},
   "outputs": [],
   "source": [
    "import spacy\n",
    "import en_core_web_sm\n",
    "import en_core_web_md\n",
    "# import en_core_web_lg\n",
    "nlp_sm = en_core_web_sm.load()\n",
    "nlp_md = en_core_web_md.load()"
   ]
  },
  {
   "cell_type": "code",
   "execution_count": 24,
   "metadata": {},
   "outputs": [],
   "source": [
    "from sklearn.metrics.pairwise import cosine_similarity, euclidean_distances"
   ]
  },
  {
   "cell_type": "code",
   "execution_count": 25,
   "metadata": {},
   "outputs": [
    {
     "name": "stdout",
     "output_type": "stream",
     "text": [
      "96\n"
     ]
    },
    {
     "data": {
      "text/plain": [
       "array([ 1.5506991 , -1.0745661 ,  1.9747349 , -1.0160941 ,  0.90996253,\n",
       "       -0.73704714,  1.465313  ,  0.806101  , -4.716807  ,  3.5754416 ,\n",
       "        1.0041305 , -0.86196965, -1.4205945 , -0.9292773 ,  2.1418033 ,\n",
       "        0.84281194,  1.4268254 ,  2.9627366 , -0.9015219 ,  2.846716  ,\n",
       "        1.1348789 , -0.1520077 , -0.15381837, -0.6398335 ,  0.36527258,\n",
       "       -1.1005914 , -0.7565238 , -0.73753256, -1.0703185 , -0.0262419 ,\n",
       "       -0.81328106, -0.6313597 ,  4.9148474 , -1.8348389 , -1.497572  ,\n",
       "        2.1519008 ,  1.0862002 ,  0.09851441, -0.64121336,  1.1362543 ,\n",
       "        1.5461333 ,  0.7860918 ,  1.2388973 , -2.6092663 ,  3.0541563 ,\n",
       "       -1.5542067 ,  0.80668175,  2.7497804 , -0.29982555, -0.5554293 ,\n",
       "       -1.8595732 , -1.3092102 ,  1.4318061 , -1.8191857 , -4.466572  ,\n",
       "        0.22177252,  1.9163146 ,  2.3711107 , -3.2554896 , -0.70262116,\n",
       "       -1.1860808 ,  0.32571986,  0.7717923 , -1.4668299 ,  1.9928519 ,\n",
       "        2.6679683 ,  1.6908104 , -1.7766593 ,  0.5232611 ,  0.41976538,\n",
       "       -0.94022524,  1.2567947 , -1.3089596 , -1.5510231 ,  0.24299479,\n",
       "       -1.52565   ,  0.6271778 , -0.5461027 , -2.2333684 , -0.5722678 ,\n",
       "        0.20837519, -2.0550947 ,  0.1361031 , -1.8320484 ,  2.2296095 ,\n",
       "        0.0851018 ,  2.2804174 , -0.7839614 , -0.599769  , -2.5733168 ,\n",
       "       -0.8697729 ,  1.0416052 , -0.7978857 ,  0.645826  , -0.92449796,\n",
       "       -3.4947107 ], dtype=float32)"
      ]
     },
     "execution_count": 25,
     "metadata": {},
     "output_type": "execute_result"
    }
   ],
   "source": [
    "doc = nlp_sm(\"elephant\")\n",
    "print(doc.vector.size)\n",
    "doc.vector"
   ]
  },
  {
   "cell_type": "code",
   "execution_count": 26,
   "metadata": {},
   "outputs": [
    {
     "name": "stdout",
     "output_type": "stream",
     "text": [
      "cosine_similarity elephant-big: [[0.35897797]]\n",
      "euclidean_distanceselephant-big: [[6.900712]]\n",
      "\n",
      "cosine_similarity mouse-big: [[0.17815787]]\n",
      "euclidean_distancesmouse-big: [[8.3890705]]\n",
      "\n",
      "cosine_similarity mouse-small: [[0.32656002]]\n",
      "euclidean_distancesmouse-small: [[7.6220174]]\n",
      "\n"
     ]
    }
   ],
   "source": [
    "# similarity demo1\n",
    "word1 = \"elephant\"\n",
    "word2 = \"big\"\n",
    "# print(\"similariy {}-{}: {}\".format(word1, word2, nlp_md(word1).similarity(nlp_md(word2))) )\n",
    "print(\"cosine_similarity {}-{}: {}\".format(word1, word2, cosine_similarity([nlp_md(word1).vector], [nlp_md(word2).vector])))\n",
    "print(\"euclidean_distances{}-{}: {}\".format(word1, word2, euclidean_distances([nlp_md(word1).vector], [nlp_md(word2).vector])))\n",
    "print()\n",
    "\n",
    "word1 = \"mouse\"\n",
    "word2 = \"big\"\n",
    "# print(\"similariy {}-{}: {}\".format(word1, word2, nlp_md(word1).similarity(nlp_md(word2))) )\n",
    "print(\"cosine_similarity {}-{}: {}\".format(word1, word2, cosine_similarity([nlp_md(word1).vector], [nlp_md(word2).vector])))\n",
    "print(\"euclidean_distances{}-{}: {}\".format(word1, word2, euclidean_distances([nlp_md(word1).vector], [nlp_md(word2).vector])))\n",
    "print()\n",
    "\n",
    "word1 = \"mouse\"\n",
    "word2 = \"small\"\n",
    "# print(\"similariy {}-{}: {}\".format(word1, word2, nlp_md(word1).similarity(nlp_md(word2))) )\n",
    "print(\"cosine_similarity {}-{}: {}\".format(word1, word2, cosine_similarity([nlp_md(word1).vector], [nlp_md(word2).vector])))\n",
    "print(\"euclidean_distances{}-{}: {}\".format(word1, word2, euclidean_distances([nlp_md(word1).vector], [nlp_md(word2).vector])))\n",
    "print()"
   ]
  },
  {
   "cell_type": "code",
   "execution_count": 27,
   "metadata": {},
   "outputs": [
    {
     "name": "stdout",
     "output_type": "stream",
     "text": [
      "similariy elephant-rock: 0.23465476998562218\n",
      "similariy mouse-elephant: 0.3079661539409069\n",
      "similariy mouse-rock: 0.11835070985447328\n",
      "similariy mouse-pebble: 0.18301520085660278\n"
     ]
    }
   ],
   "source": [
    "# similarity demo2\n",
    "word1 = \"elephant\"\n",
    "word2 = \"rock\"\n",
    "print(\"similariy {}-{}: {}\".format(word1, word2, nlp_md(word1).similarity(nlp_md(word2))) )\n",
    "\n",
    "word1 = \"mouse\"\n",
    "word2 = \"elephant\"\n",
    "print(\"similariy {}-{}: {}\".format(word1, word2, nlp_md(word1).similarity(nlp_md(word2))) )\n",
    "\n",
    "word1 = \"mouse\"\n",
    "word2 = \"rock\"\n",
    "print(\"similariy {}-{}: {}\".format(word1, word2, nlp_md(word1).similarity(nlp_md(word2))) )\n",
    "\n",
    "word1 = \"mouse\"\n",
    "word2 = \"pebble\"\n",
    "print(\"similariy {}-{}: {}\".format(word1, word2, nlp_md(word1).similarity(nlp_md(word2))) )\n"
   ]
  },
  {
   "cell_type": "code",
   "execution_count": 28,
   "metadata": {},
   "outputs": [
    {
     "name": "stdout",
     "output_type": "stream",
     "text": [
      "similariy mouse-house: 0.16095256988349818\n",
      "similariy elephant-house: 0.2828021219183604\n"
     ]
    }
   ],
   "source": [
    "# similarity demo3\n",
    "word1 = \"mouse\"\n",
    "word2 = \"house\"\n",
    "print(\"similariy {}-{}: {}\".format(word1, word2, nlp_md(word1).similarity(nlp_md(word2))) )\n",
    "\n",
    "word1 = \"elephant\"\n",
    "word2 = \"house\"\n",
    "print(\"similariy {}-{}: {}\".format(word1, word2, nlp_md(word1).similarity(nlp_md(word2))) )"
   ]
  },
  {
   "cell_type": "code",
   "execution_count": 29,
   "metadata": {},
   "outputs": [
    {
     "name": "stderr",
     "output_type": "stream",
     "text": [
      "100%|██████████████████████████████████████████████████████████████████████████████████| 50/50 [00:00<00:00, 65.02it/s]\n",
      "100%|██████████████████████████████████████████████████████████████████████████████████| 50/50 [00:00<00:00, 67.84it/s]"
     ]
    },
    {
     "name": "stdout",
     "output_type": "stream",
     "text": [
      "   token_id token                                           word2vec  is_oov\n",
      "0         0   NAN  [0.0, 0.0, 0.0, 0.0, 0.0, 0.0, 0.0, 0.0, 0.0, ...    True\n",
      "1         1   the  [-1.3546131, -1.7212939, 1.7044731, -2.8054314...    True\n",
      "2         2     a  [-1.9769197, -1.5778058, 0.116705105, -2.46210...    True\n",
      "3         3   and  [-2.8375597, 0.8632377, -0.69991976, -0.508865...    True\n",
      "4         4    of  [-2.7217283, -2.1163979, -0.88265955, -0.72048...    True\n"
     ]
    },
    {
     "name": "stderr",
     "output_type": "stream",
     "text": [
      "\n"
     ]
    }
   ],
   "source": [
    "# update token dictionary\n",
    "df_index_word = pd.Series(tokenizer.index_word)\n",
    "# df_index_word\n",
    "df_index_word_valid = df_index_word[:MAX_NUM_TOKENS-1]\n",
    "df_index_word_valid = pd.Series([\"NAN\"]).append(df_index_word_valid)\n",
    "df_index_word_valid = df_index_word_valid.reset_index()\n",
    "# df_index_word_valid.head()\n",
    "df_index_word_valid.columns = ['token_id', 'token']\n",
    "# df_index_word_valid.head()\n",
    "df_index_word_valid['word2vec'] = df_index_word_valid.token.progress_apply(lambda x: nlp_sm(x).vector)\n",
    "df_index_word_valid['is_oov'] = df_index_word_valid.token.progress_apply(lambda x: nlp_sm(x)[0].is_oov)\n",
    "df_index_word_valid.at[0, \"word2vec\"] = np.zeros_like(df_index_word_valid.at[0, \"word2vec\"])\n",
    "df_index_word_valid.head()"
   ]
  },
  {
   "cell_type": "code",
   "execution_count": 30,
   "metadata": {},
   "outputs": [
    {
     "name": "stdout",
     "output_type": "stream",
     "text": [
      "dog True 17.564213 True\n",
      "cat True 18.028576 True\n",
      "banana True 15.8090315 True\n",
      "afskfsd True 18.056723 True\n"
     ]
    },
    {
     "data": {
      "text/plain": [
       "array([ 5.179483  ,  2.0051188 ,  1.2447512 ,  0.44853508,  2.3613355 ,\n",
       "        0.14572912, -1.2528524 , -0.04382432, -1.2016354 ,  3.1923714 ],\n",
       "      dtype=float32)"
      ]
     },
     "execution_count": 30,
     "metadata": {},
     "output_type": "execute_result"
    }
   ],
   "source": [
    "# OOV demo\n",
    "# nlp = spacy.load(\"en_core_web_md\")\n",
    "tokens_sm = nlp_sm(\"dog cat banana afskfsd\")\n",
    "\n",
    "for token in tokens_sm:\n",
    "    print(token.text, token.has_vector, token.vector_norm, token.is_oov)\n",
    "tokens_sm[-1].vector[:10]\n",
    "\n"
   ]
  },
  {
   "cell_type": "code",
   "execution_count": 31,
   "metadata": {},
   "outputs": [
    {
     "name": "stdout",
     "output_type": "stream",
     "text": [
      "dog True 7.0336733 False\n",
      "cat True 6.6808186 False\n",
      "banana True 6.700014 False\n",
      "afskfsd False 0.0 True\n"
     ]
    },
    {
     "data": {
      "text/plain": [
       "array([0., 0., 0., 0., 0., 0., 0., 0., 0., 0.], dtype=float32)"
      ]
     },
     "execution_count": 31,
     "metadata": {},
     "output_type": "execute_result"
    }
   ],
   "source": [
    "# OOV demo\n",
    "# nlp = spacy.load(\"en_core_web_md\")\n",
    "tokens_md = nlp_md(\"dog cat banana afskfsd\")\n",
    "\n",
    "for token in tokens_md:\n",
    "    print(token.text, token.has_vector, token.vector_norm, token.is_oov)    \n",
    "tokens_md[-1].vector[:10]"
   ]
  },
  {
   "cell_type": "markdown",
   "metadata": {},
   "source": [
    "## Embbeding matrix"
   ]
  },
  {
   "cell_type": "code",
   "execution_count": 32,
   "metadata": {},
   "outputs": [
    {
     "data": {
      "application/vnd.jupyter.widget-view+json": {
       "model_id": "ae55a9e9c7544adf9b17ded20744947d",
       "version_major": 2,
       "version_minor": 0
      },
      "text/plain": [
       "HBox(children=(FloatProgress(value=0.0, max=50.0), HTML(value='')))"
      ]
     },
     "metadata": {},
     "output_type": "display_data"
    },
    {
     "name": "stdout",
     "output_type": "stream",
     "text": [
      "\n"
     ]
    },
    {
     "data": {
      "text/plain": [
       "array([[-1.3546131 , -1.7212939 ,  1.7044731 , -2.8054314 ,  0.01337463,\n",
       "        -0.19276601,  4.2008667 , -0.8489299 ,  0.22612572,  0.8323789 ,\n",
       "        -1.5363001 ,  0.76973534, -1.8191931 ,  3.424745  , -3.7015743 ,\n",
       "         0.06966668,  1.19934   ,  0.6596105 ,  1.0278003 , -1.3228968 ,\n",
       "         3.7947822 ,  0.11419988,  0.6747156 , -1.9114205 ,  0.77572274,\n",
       "         1.3112404 , -0.89940584,  1.5913332 ,  1.5687513 , -1.775161  ,\n",
       "         2.8015275 , -2.2703767 ,  0.8165153 ,  0.05561072, -0.4741618 ,\n",
       "         2.0616734 , -0.9792097 , -1.506005  , -0.0497179 , -2.9729445 ,\n",
       "         1.1958874 , -1.5420488 ,  1.2593325 ,  2.8529413 , -0.09259775,\n",
       "        -1.2865317 ,  0.2498877 ,  6.6829853 ,  0.5384929 , -0.64153785,\n",
       "        -1.0654074 , -0.68430793,  1.9399544 , -0.52197826, -2.0760772 ,\n",
       "        -0.5465036 , -1.2320247 ,  0.30617422, -2.3144114 , -0.5860318 ,\n",
       "        -2.8323238 , -0.47520158,  0.33643067, -2.2883096 ,  3.277278  ,\n",
       "         0.30968997,  3.5875292 ,  0.05333573,  3.1186311 , -1.2910995 ,\n",
       "        -1.7117715 , -1.5533966 ,  1.3461573 , -0.8362238 ,  1.1179888 ,\n",
       "        -0.1528396 ,  0.10006303, -0.21248671,  0.24358737,  0.80451095,\n",
       "         2.4379969 , -0.8187887 , -0.8886712 , -1.299891  , -1.4563712 ,\n",
       "        -0.8390178 , -0.69944215,  3.5747504 , -0.7664497 , -0.14256847,\n",
       "        -2.9463215 ,  0.66565466,  0.37767053, -0.35477024,  1.4134412 ,\n",
       "        -0.31084096],\n",
       "       [-1.9769197 , -1.5778058 ,  0.1167051 , -2.4621043 ,  1.2764369 ,\n",
       "         0.45698988,  4.7121234 ,  0.48355526, -2.9378102 ,  0.7402641 ,\n",
       "        -0.5600623 ,  2.777891  , -1.1961813 ,  2.6265764 , -1.6676297 ,\n",
       "         1.8103511 ,  2.066329  ,  1.5869163 ,  2.5679533 ,  0.45133978,\n",
       "         3.3232007 ,  1.3849066 , -0.9588177 , -2.428321  ,  0.4940609 ,\n",
       "         0.98123837, -2.3322208 ,  0.6273204 , -0.5753155 , -3.3714035 ,\n",
       "         0.89585763, -0.06570235,  0.8010635 , -1.3973078 ,  1.0359118 ,\n",
       "         2.3077874 , -1.34659   , -1.8035158 ,  1.9160767 , -2.2861137 ,\n",
       "         3.1665826 , -1.8305888 ,  0.5118454 ,  0.97761476, -0.05850661,\n",
       "        -0.5106207 ,  0.12322176,  6.727638  , -0.7792842 ,  0.4290229 ,\n",
       "        -1.217195  , -1.9535444 ,  3.2533638 , -0.5791638 , -1.6300278 ,\n",
       "        -1.6767257 , -0.16072965,  0.6873177 , -2.2269208 ,  0.7536901 ,\n",
       "        -1.6431162 ,  0.9407985 , -1.6990153 , -2.6793947 ,  5.6841607 ,\n",
       "         0.33106783,  4.233346  , -0.5799941 ,  1.9924902 , -1.4820602 ,\n",
       "        -1.7273182 , -2.3527722 ,  2.8772478 ,  0.4774406 ,  1.1982647 ,\n",
       "         1.1545448 , -0.5254973 , -1.2128356 ,  1.259248  ,  1.1272072 ,\n",
       "         0.22621742, -1.0709025 , -0.325599  , -0.645257  ,  0.20262331,\n",
       "        -2.3263562 , -1.7479718 ,  0.42092553, -3.0750804 , -0.1612476 ,\n",
       "        -5.5212617 ,  1.2668426 ,  0.24008703, -0.14254093, -0.14980423,\n",
       "        -0.6712528 ]], dtype=float32)"
      ]
     },
     "execution_count": 32,
     "metadata": {},
     "output_type": "execute_result"
    }
   ],
   "source": [
    "# Embbeding matrix\n",
    "embedding_matrix = np.array([vec for vec in tqdm(df_index_word_valid.word2vec.values)])\n",
    "embedding_matrix[1:3]"
   ]
  },
  {
   "cell_type": "code",
   "execution_count": 33,
   "metadata": {},
   "outputs": [
    {
     "name": "stdout",
     "output_type": "stream",
     "text": [
      "(50, 96)\n"
     ]
    }
   ],
   "source": [
    "print(embedding_matrix.shape)"
   ]
  },
  {
   "cell_type": "markdown",
   "metadata": {},
   "source": [
    "# Padding"
   ]
  },
  {
   "cell_type": "markdown",
   "metadata": {},
   "source": [
    "# tf embedding layer"
   ]
  },
  {
   "cell_type": "code",
   "execution_count": 34,
   "metadata": {},
   "outputs": [],
   "source": [
    "from tensorflow.keras.initializers import Constant\n",
    "from tensorflow.keras.layers import Embedding"
   ]
  },
  {
   "cell_type": "code",
   "execution_count": 35,
   "metadata": {},
   "outputs": [],
   "source": [
    "# MAX_NUM_TOKENS = 50\n",
    "EMBEDDING_DIM = embedding_matrix.shape[1]\n",
    "# MAX_SEQUENCE_LENGTH = 10\n",
    "embedding_layer = Embedding(input_dim=MAX_NUM_TOKENS,\n",
    "                            output_dim=EMBEDDING_DIM,\n",
    "                            embeddings_initializer=Constant(embedding_matrix),\n",
    "                            input_length=MAX_SEQUENCE_LENGTH,\n",
    "                            mask_zero=True,\n",
    "                            trainable=False)"
   ]
  },
  {
   "cell_type": "code",
   "execution_count": 36,
   "metadata": {},
   "outputs": [
    {
     "data": {
      "application/vnd.jupyter.widget-view+json": {
       "model_id": "75c084e6658440c5afae0439fed6dce4",
       "version_major": 2,
       "version_minor": 0
      },
      "text/plain": [
       "HBox(children=(FloatProgress(value=0.0, max=18.0), HTML(value='')))"
      ]
     },
     "metadata": {},
     "output_type": "display_data"
    },
    {
     "name": "stdout",
     "output_type": "stream",
     "text": [
      "\n"
     ]
    },
    {
     "data": {
      "text/plain": [
       "array([[21,  4,  2, 12, 22, 23, 13,  2, 24,  6],\n",
       "       [ 2, 26,  7, 27, 14,  9,  1,  4, 28,  0],\n",
       "       [15, 25,  1, 29,  6, 15, 30,  0,  0,  0],\n",
       "       [ 1, 16, 17, 27, 30,  1,  5,  2,  0,  0],\n",
       "       [31,  2, 28,  6, 32,  9, 33,  0,  0,  0],\n",
       "       [33, 34,  3, 17, 35,  0,  0,  0,  0,  0],\n",
       "       [35,  8, 21, 18, 36,  0,  0,  0,  0,  0],\n",
       "       [ 6, 37, 38, 10, 38, 39, 40,  3,  2, 12],\n",
       "       [ 1,  8, 29,  7, 41,  9, 19, 14, 12,  6],\n",
       "       [10, 43,  2,  1,  4,  0,  0,  0,  0,  0],\n",
       "       [ 1, 37,  7, 41,  9,  0,  0,  0,  0,  0],\n",
       "       [10, 44,  6,  1, 40, 20,  2,  3,  5, 43],\n",
       "       [46,  1,  3, 16,  4, 19,  5, 24,  4, 13],\n",
       "       [18, 47, 31,  7,  2,  1, 48, 34,  4,  8],\n",
       "       [16, 17, 13, 39,  8, 11,  0,  0,  0,  0],\n",
       "       [ 1, 11, 23, 32,  3,  1,  5,  1,  0,  0],\n",
       "       [18, 15,  1, 44, 20,  3, 45,  3,  5,  0],\n",
       "       [ 8, 11,  1, 26, 49,  3,  1, 49,  4, 36]])"
      ]
     },
     "execution_count": 36,
     "metadata": {},
     "output_type": "execute_result"
    }
   ],
   "source": [
    "# input transform format\n",
    "pad_sequences = np.array([sequence for sequence in tqdm(df_text.padding.values)])\n",
    "pad_sequences"
   ]
  },
  {
   "cell_type": "code",
   "execution_count": 37,
   "metadata": {},
   "outputs": [
    {
     "name": "stdout",
     "output_type": "stream",
     "text": [
      "(18, 10)\n"
     ]
    },
    {
     "data": {
      "text/plain": [
       "TensorShape([18, 10, 96])"
      ]
     },
     "execution_count": 37,
     "metadata": {},
     "output_type": "execute_result"
    }
   ],
   "source": [
    "# output shape\n",
    "# from tensorflow import convert_to_tensor\n",
    "# embedding_output = embedding_layer(convert_to_tensor(pad_sequences)) # optional for tf 2.x\n",
    "embedding_output = embedding_layer(pad_sequences)\n",
    "# result = embedding_layer(inputs=trainvalid_data_post[0])\n",
    "print(trainvalid_data_post.shape)\n",
    "embedding_output.shape"
   ]
  },
  {
   "cell_type": "code",
   "execution_count": 38,
   "metadata": {},
   "outputs": [
    {
     "name": "stdout",
     "output_type": "stream",
     "text": [
      "[ 2 26  7 27 14  9  1  4 28  0]\n"
     ]
    },
    {
     "data": {
      "text/plain": [
       "<tf.Tensor: shape=(10, 96), dtype=float32, numpy=\n",
       "array([[-1.97691965e+00, -1.57780576e+00,  1.16705105e-01,\n",
       "        -2.46210432e+00,  1.27643692e+00,  4.56989884e-01,\n",
       "         4.71212339e+00,  4.83555257e-01, -2.93781018e+00,\n",
       "         7.40264118e-01, -5.60062289e-01,  2.77789092e+00,\n",
       "        -1.19618130e+00,  2.62657642e+00, -1.66762972e+00,\n",
       "         1.81035113e+00,  2.06632900e+00,  1.58691633e+00,\n",
       "         2.56795335e+00,  4.51339781e-01,  3.32320070e+00,\n",
       "         1.38490665e+00, -9.58817720e-01, -2.42832088e+00,\n",
       "         4.94060904e-01,  9.81238365e-01, -2.33222079e+00,\n",
       "         6.27320409e-01, -5.75315475e-01, -3.37140346e+00,\n",
       "         8.95857632e-01, -6.57023489e-02,  8.01063478e-01,\n",
       "        -1.39730775e+00,  1.03591180e+00,  2.30778742e+00,\n",
       "        -1.34659004e+00, -1.80351579e+00,  1.91607666e+00,\n",
       "        -2.28611374e+00,  3.16658258e+00, -1.83058882e+00,\n",
       "         5.11845410e-01,  9.77614760e-01, -5.85066080e-02,\n",
       "        -5.10620713e-01,  1.23221755e-01,  6.72763777e+00,\n",
       "        -7.79284179e-01,  4.29022908e-01, -1.21719503e+00,\n",
       "        -1.95354438e+00,  3.25336385e+00, -5.79163790e-01,\n",
       "        -1.63002777e+00, -1.67672575e+00, -1.60729647e-01,\n",
       "         6.87317729e-01, -2.22692084e+00,  7.53690124e-01,\n",
       "        -1.64311624e+00,  9.40798521e-01, -1.69901526e+00,\n",
       "        -2.67939472e+00,  5.68416071e+00,  3.31067830e-01,\n",
       "         4.23334599e+00, -5.79994082e-01,  1.99249017e+00,\n",
       "        -1.48206019e+00, -1.72731817e+00, -2.35277224e+00,\n",
       "         2.87724781e+00,  4.77440596e-01,  1.19826472e+00,\n",
       "         1.15454483e+00, -5.25497317e-01, -1.21283555e+00,\n",
       "         1.25924802e+00,  1.12720716e+00,  2.26217419e-01,\n",
       "        -1.07090247e+00, -3.25599015e-01, -6.45256996e-01,\n",
       "         2.02623308e-01, -2.32635617e+00, -1.74797177e+00,\n",
       "         4.20925528e-01, -3.07508039e+00, -1.61247596e-01,\n",
       "        -5.52126169e+00,  1.26684260e+00,  2.40087032e-01,\n",
       "        -1.42540932e-01, -1.49804235e-01, -6.71252787e-01],\n",
       "       [ 2.83787537e+00,  1.16508913e+00,  1.27923262e+00,\n",
       "        -1.44432998e+00, -7.07145482e-02, -1.63411784e+00,\n",
       "         6.20025635e-01, -1.15177363e-01, -1.93350315e+00,\n",
       "         3.33587742e+00,  2.20935583e+00,  7.19643116e-01,\n",
       "         3.51619911e+00,  4.47097301e-01,  1.56195736e+00,\n",
       "        -3.30124950e+00,  1.34249580e+00,  2.28288674e+00,\n",
       "        -3.59792566e+00,  5.47641134e+00,  8.70815098e-01,\n",
       "         1.57057810e+00,  4.67415035e-01, -1.60545409e+00,\n",
       "        -3.00880343e-01,  1.01786518e+00,  4.22717690e-01,\n",
       "        -1.12716258e+00, -7.51816034e-01, -6.65981114e-01,\n",
       "        -3.74870211e-01, -1.43927193e+00,  1.47785628e+00,\n",
       "        -1.16446304e+00, -1.59344316e+00,  1.71690130e+00,\n",
       "         2.47588921e+00, -1.46476948e+00, -4.03214246e-01,\n",
       "         5.78886032e-01,  1.32004011e+00,  1.17167222e+00,\n",
       "        -3.21248293e-01, -1.75547218e+00,  1.35355139e+00,\n",
       "        -2.49127960e+00,  5.66650927e-01,  2.31425381e+00,\n",
       "        -7.89053679e-01, -7.44341373e-01, -1.49146891e+00,\n",
       "         1.11568105e+00,  2.23695517e+00, -2.97442865e+00,\n",
       "        -1.79017258e+00,  2.20609093e+00,  6.29031599e-01,\n",
       "         8.95141959e-01, -3.43257189e+00, -9.10862684e-01,\n",
       "        -2.04474688e+00, -9.95926976e-01,  8.17711294e-01,\n",
       "        -1.41184402e+00,  1.18432069e+00,  1.49844968e+00,\n",
       "         2.28744197e+00, -1.75735199e+00, -7.80058920e-01,\n",
       "         2.01752573e-01,  6.41829252e-01,  1.25493455e+00,\n",
       "        -1.09694409e+00, -3.47294748e-01, -3.25932562e-01,\n",
       "        -1.42119789e+00,  1.78338361e+00,  1.35419798e+00,\n",
       "        -1.62235129e+00,  7.86282539e-01,  1.32320285e+00,\n",
       "        -1.40306187e+00, -2.26316237e+00, -1.61737084e-01,\n",
       "         1.80458188e-01, -1.62878108e+00,  1.04285550e+00,\n",
       "         1.20764995e+00, -1.13781214e+00, -1.36878455e+00,\n",
       "        -1.89727390e+00,  1.55930257e+00, -2.29650235e+00,\n",
       "        -6.75279796e-01,  6.20303750e-02, -2.05182934e+00],\n",
       "       [ 1.99521780e-01, -1.70538068e+00, -2.53229690e+00,\n",
       "        -1.09132934e+00,  3.58981490e-01,  2.45673680e+00,\n",
       "         2.53746271e+00, -3.41062620e-02,  2.58832884e+00,\n",
       "         1.63792026e+00,  1.02793503e+00,  9.57202196e-01,\n",
       "        -4.03821468e+00, -7.29336619e-01,  2.27625585e+00,\n",
       "         3.04534614e-01, -3.87308478e-01,  2.85007477e+00,\n",
       "         9.60820138e-01, -1.13853228e+00,  5.07280946e-01,\n",
       "         1.36609507e+00,  3.63933563e-01, -3.11773717e-01,\n",
       "         9.61523652e-01,  1.82849750e-01, -2.65112162e+00,\n",
       "        -5.37265539e+00, -2.36442304e+00, -3.26392508e+00,\n",
       "         2.81889009e+00,  1.40330124e+00,  4.95315343e-01,\n",
       "        -1.11819386e-01, -3.26448083e+00, -1.75883114e+00,\n",
       "         2.27972150e+00,  3.23802471e-01, -2.23120594e+00,\n",
       "         1.22318316e+00,  1.72890127e+00, -9.84068990e-01,\n",
       "        -5.64745188e-01, -3.22328448e-01, -1.27770948e+00,\n",
       "         4.55846786e+00,  1.47689784e+00, -4.50221151e-01,\n",
       "        -3.17978561e-01, -1.48470807e+00,  3.20002556e+00,\n",
       "        -3.28283978e+00,  2.79054618e+00, -9.80320454e-01,\n",
       "         4.76582146e+00,  1.27147317e-01, -5.35911620e-02,\n",
       "        -2.55198121e-01, -3.35921168e-01,  3.75756890e-01,\n",
       "         8.19912791e-01, -4.35010791e-02,  2.33359039e-02,\n",
       "        -2.79173541e+00,  1.72264814e+00, -8.34861457e-01,\n",
       "         1.84736955e+00, -1.54565001e+00,  4.08660978e-01,\n",
       "        -1.66637099e+00,  1.06183743e+00, -3.41105723e+00,\n",
       "        -1.47422242e+00,  9.28545147e-02,  6.48956537e-01,\n",
       "        -5.85937738e-01, -5.76857805e-01,  2.24587297e+00,\n",
       "         5.72179556e+00, -1.51361012e+00, -4.31179255e-01,\n",
       "         3.42930984e+00,  1.16235483e+00, -8.96278024e-02,\n",
       "        -2.86728799e-01, -2.45213580e+00,  1.58243430e+00,\n",
       "         1.85931754e+00,  1.80721745e-01, -1.56769454e-02,\n",
       "        -4.77118075e-01, -2.67000407e-01,  2.27958798e+00,\n",
       "        -1.56212866e+00,  6.96723819e-01, -3.65611219e+00],\n",
       "       [-2.00314426e+00, -2.19467950e+00, -2.01107740e+00,\n",
       "         1.16565156e+00,  1.30382478e+00, -1.22166824e+00,\n",
       "        -2.98297435e-01,  4.54313129e-01,  1.84223747e+00,\n",
       "         1.33359909e-01, -1.32487094e+00,  1.37382674e+00,\n",
       "        -3.50968981e+00, -3.41564417e-02, -1.25106764e+00,\n",
       "        -2.31543994e+00,  1.31332862e+00,  2.14154983e+00,\n",
       "         1.51410329e+00,  1.38507581e+00,  1.53828287e+00,\n",
       "         7.39741445e-01, -5.16360283e-01, -1.56968725e+00,\n",
       "        -1.23216987e+00,  1.02425873e+00,  3.14858675e-01,\n",
       "        -4.27936077e+00,  1.55940008e+00, -1.66165662e+00,\n",
       "         2.60098076e+00, -3.39566803e+00, -8.38626385e-01,\n",
       "        -4.63736117e-01,  1.18769825e+00, -1.52617359e+00,\n",
       "        -1.06576264e+00,  3.31394744e+00, -1.21194077e+00,\n",
       "         1.08536005e-01,  3.98606157e+00,  2.02578592e+00,\n",
       "         3.06444693e+00,  1.33242548e+00, -1.27416074e-01,\n",
       "        -2.84390163e+00,  2.06469870e+00,  1.87580967e+00,\n",
       "        -4.75783378e-01, -2.27352834e+00,  1.83527446e+00,\n",
       "        -3.23310399e+00,  4.18783665e+00,  5.34572840e-01,\n",
       "        -1.64173174e+00, -1.43286133e+00, -1.19425678e+00,\n",
       "         8.73663187e-01, -3.81332695e-01, -4.65044141e-01,\n",
       "        -1.38274324e+00, -1.60115623e+00, -7.24271178e-01,\n",
       "         9.25098598e-01,  1.88489020e+00,  3.68427181e+00,\n",
       "         3.90057117e-01, -1.60155368e+00,  2.22684193e+00,\n",
       "        -1.77015662e+00,  2.00800323e+00, -1.43048251e+00,\n",
       "        -1.54166853e+00, -4.05581379e+00,  1.44363952e+00,\n",
       "         1.73438525e+00,  7.41701722e-01,  3.02831352e-01,\n",
       "         1.19296718e+00, -1.95655063e-01,  8.52387547e-01,\n",
       "         4.24684644e-01, -1.35540962e-04,  6.25477552e-01,\n",
       "        -6.26826882e-01, -3.77667725e-01, -2.29438519e+00,\n",
       "         1.42349339e+00,  1.90746307e+00,  2.56016588e+00,\n",
       "         3.71763378e-01,  3.66362602e-01,  1.19193923e+00,\n",
       "        -1.08429670e+00, -1.21515131e+00, -2.23491359e+00],\n",
       "       [-2.08000445e+00, -8.02983761e-01,  7.02155590e-01,\n",
       "        -3.04009485e+00,  1.25249541e+00,  7.08115935e-01,\n",
       "         3.62035203e+00,  3.00335258e-01, -1.91250896e+00,\n",
       "         5.28167844e-01, -1.39042377e+00,  4.10534680e-01,\n",
       "         6.95826709e-02,  2.00919652e+00, -2.96091175e+00,\n",
       "         1.45874357e+00,  3.13162255e+00,  9.95460510e-01,\n",
       "         9.61173296e-01,  1.41279697e-02,  3.05016899e+00,\n",
       "         1.37905955e+00, -5.89417040e-01, -2.04642987e+00,\n",
       "         1.59862971e+00,  1.33345270e+00, -2.16106796e+00,\n",
       "         1.23836720e+00, -2.13320923e+00, -2.95013523e+00,\n",
       "         1.20950687e+00,  2.63190627e-01,  1.31710899e+00,\n",
       "         3.57070208e-01, -3.60299706e-01,  3.45651388e+00,\n",
       "        -2.14250135e+00, -2.81475616e+00,  1.13096988e+00,\n",
       "        -2.43823051e+00,  2.67462158e+00, -1.78602171e+00,\n",
       "         2.47075677e-01,  9.92613792e-01,  1.01312590e+00,\n",
       "        -1.18739784e+00,  5.34261465e-02,  6.30786753e+00,\n",
       "         6.22351289e-01,  3.57453227e-02, -6.04801774e-01,\n",
       "        -1.27212358e+00,  3.02593446e+00,  1.35523528e-02,\n",
       "        -2.86035252e+00, -1.10201633e+00, -1.05538917e+00,\n",
       "         2.26171732e+00, -1.08366549e+00,  6.53030992e-01,\n",
       "        -2.54888630e+00,  6.33640409e-01, -6.83925033e-01,\n",
       "        -1.39986670e+00,  3.73449469e+00,  7.24147379e-01,\n",
       "         2.99712515e+00, -1.19814694e-01,  2.07390523e+00,\n",
       "        -2.05976105e+00, -7.24906087e-01, -1.30963016e+00,\n",
       "         2.50026751e+00, -7.41937906e-02,  4.80882406e-01,\n",
       "         4.16330010e-01, -4.24981296e-01, -5.34403443e-01,\n",
       "         5.26597619e-01,  2.43938112e+00,  1.77042651e+00,\n",
       "        -2.15481186e+00, -9.31345522e-02, -2.46181369e-01,\n",
       "        -8.75310540e-01, -3.53496838e+00, -3.70309770e-01,\n",
       "         3.88614058e-01, -2.33703923e+00, -1.02762389e+00,\n",
       "        -4.33603239e+00,  8.03669214e-01,  8.04498315e-01,\n",
       "         5.47144532e-01,  1.30822390e-01,  3.04305106e-01],\n",
       "       [-2.19091558e+00, -2.33652616e+00, -7.52539277e-01,\n",
       "        -2.61086106e+00,  1.31376505e-01,  4.70903516e-02,\n",
       "         1.29296935e+00,  6.86865151e-01,  1.85915470e-01,\n",
       "         7.48644114e-01, -1.09836745e+00,  1.06097150e+00,\n",
       "        -5.81271172e-01, -6.07371330e-01, -2.76532364e+00,\n",
       "         3.98523033e-01, -7.13840246e-01,  1.79007697e+00,\n",
       "        -8.14747691e-01, -1.74986315e+00, -6.03688061e-01,\n",
       "         5.73810160e-01,  6.93540573e-02,  1.58631563e-01,\n",
       "         8.52154613e-01,  1.17667139e-01, -1.52548468e+00,\n",
       "        -1.79334617e+00,  9.97638702e-03, -1.67515492e+00,\n",
       "         2.57431126e+00, -1.55097198e+00, -3.55274320e-01,\n",
       "         3.81685877e+00, -4.05970240e+00,  2.19475985e+00,\n",
       "         1.55878019e+00, -9.72476006e-02,  3.74719799e-01,\n",
       "        -6.20205402e-01,  1.14038801e+00, -1.39290869e+00,\n",
       "        -1.97288716e+00, -1.87698972e+00,  1.09662056e+00,\n",
       "        -1.17864656e+00,  5.72550964e+00,  2.80939221e-01,\n",
       "         2.56261635e+00,  6.10609412e-01, -7.41465092e-02,\n",
       "        -2.13658619e+00,  6.95787907e-01,  2.07966876e+00,\n",
       "        -2.35430789e+00,  1.15152740e+00, -1.40683746e+00,\n",
       "         4.14614290e-01, -2.42222786e-01, -6.71046197e-01,\n",
       "         2.52551413e+00, -1.67339015e+00, -6.01424873e-01,\n",
       "        -1.92064023e+00,  1.55148065e+00,  7.76276469e-01,\n",
       "        -4.22068655e-01, -3.56440246e-01,  7.09770977e-01,\n",
       "        -2.19531059e+00,  2.92060280e+00, -1.21960735e+00,\n",
       "         1.49146402e+00, -1.01568675e+00, -1.65029252e+00,\n",
       "         5.85746229e-01,  2.11236143e+00, -1.28662825e+00,\n",
       "         6.43338680e+00,  1.04336703e+00, -1.67746568e+00,\n",
       "         8.81624937e-01,  2.03711224e+00, -3.83733749e-01,\n",
       "        -3.16394472e+00,  1.70212701e-01,  2.56512237e+00,\n",
       "         1.78773999e+00,  7.23370194e-01,  1.54339361e+00,\n",
       "         1.39930165e+00, -9.36904669e-01,  1.42838359e-01,\n",
       "         7.84520507e-01,  1.34562945e+00, -1.16844380e+00],\n",
       "       [-1.35461307e+00, -1.72129393e+00,  1.70447314e+00,\n",
       "        -2.80543137e+00,  1.33746266e-02, -1.92766011e-01,\n",
       "         4.20086670e+00, -8.48929882e-01,  2.26125717e-01,\n",
       "         8.32378924e-01, -1.53630006e+00,  7.69735336e-01,\n",
       "        -1.81919312e+00,  3.42474508e+00, -3.70157433e+00,\n",
       "         6.96666837e-02,  1.19933999e+00,  6.59610510e-01,\n",
       "         1.02780032e+00, -1.32289684e+00,  3.79478216e+00,\n",
       "         1.14199877e-01,  6.74715579e-01, -1.91142046e+00,\n",
       "         7.75722742e-01,  1.31124043e+00, -8.99405837e-01,\n",
       "         1.59133315e+00,  1.56875134e+00, -1.77516103e+00,\n",
       "         2.80152750e+00, -2.27037668e+00,  8.16515326e-01,\n",
       "         5.56107163e-02, -4.74161804e-01,  2.06167340e+00,\n",
       "        -9.79209721e-01, -1.50600505e+00, -4.97179031e-02,\n",
       "        -2.97294450e+00,  1.19588745e+00, -1.54204881e+00,\n",
       "         1.25933254e+00,  2.85294127e+00, -9.25977528e-02,\n",
       "        -1.28653169e+00,  2.49887705e-01,  6.68298531e+00,\n",
       "         5.38492918e-01, -6.41537845e-01, -1.06540740e+00,\n",
       "        -6.84307933e-01,  1.93995440e+00, -5.21978259e-01,\n",
       "        -2.07607722e+00, -5.46503603e-01, -1.23202467e+00,\n",
       "         3.06174219e-01, -2.31441140e+00, -5.86031795e-01,\n",
       "        -2.83232379e+00, -4.75201577e-01,  3.36430669e-01,\n",
       "        -2.28830957e+00,  3.27727795e+00,  3.09689969e-01,\n",
       "         3.58752918e+00,  5.33357263e-02,  3.11863112e+00,\n",
       "        -1.29109955e+00, -1.71177149e+00, -1.55339658e+00,\n",
       "         1.34615731e+00, -8.36223781e-01,  1.11798882e+00,\n",
       "        -1.52839601e-01,  1.00063026e-01, -2.12486714e-01,\n",
       "         2.43587375e-01,  8.04510951e-01,  2.43799686e+00,\n",
       "        -8.18788707e-01, -8.88671219e-01, -1.29989100e+00,\n",
       "        -1.45637119e+00, -8.39017808e-01, -6.99442148e-01,\n",
       "         3.57475042e+00, -7.66449690e-01, -1.42568469e-01,\n",
       "        -2.94632149e+00,  6.65654659e-01,  3.77670527e-01,\n",
       "        -3.54770243e-01,  1.41344118e+00, -3.10840964e-01],\n",
       "       [-2.72172832e+00, -2.11639786e+00, -8.82659554e-01,\n",
       "        -7.20489144e-01, -1.45641458e+00, -2.74467945e-01,\n",
       "         2.65406251e+00,  3.47778869e+00,  1.67225873e+00,\n",
       "         2.10582542e+00, -8.16676497e-01,  2.99399424e+00,\n",
       "        -3.36570573e+00,  3.45661211e+00, -2.99130034e+00,\n",
       "         3.93060505e-01,  1.34680986e-01,  9.72307563e-01,\n",
       "        -2.61762142e-02, -1.13544130e+00,  2.25284600e+00,\n",
       "         4.94159341e-01,  7.22398937e-01, -1.96774793e+00,\n",
       "         1.36405599e+00, -4.97840852e-01, -1.34672701e+00,\n",
       "        -3.13617587e+00,  2.18738723e+00, -9.47245121e-01,\n",
       "         1.47939730e+00, -2.05467010e+00,  9.12075996e-01,\n",
       "         4.10753536e+00, -3.24858665e+00, -6.99679852e-01,\n",
       "         1.18922627e+00, -1.98946738e+00, -2.40995169e+00,\n",
       "         1.55069423e+00,  8.83274198e-01, -1.43094921e+00,\n",
       "        -8.42391253e-02, -1.89624691e+00,  1.38362455e+00,\n",
       "        -1.83087611e+00,  2.52913809e+00,  1.03689671e+00,\n",
       "         1.65568435e+00, -2.29132843e+00, -8.24955523e-01,\n",
       "        -3.92017841e+00,  1.86857772e+00,  7.76867568e-01,\n",
       "        -1.37055492e+00,  2.35370493e+00, -8.88442755e-01,\n",
       "        -5.29730439e-01,  9.22994435e-01,  5.47372043e-01,\n",
       "        -3.69327962e-01, -9.25389290e-01, -1.67472255e+00,\n",
       "         1.05047655e+00,  2.29670405e+00,  5.16359472e+00,\n",
       "        -8.56422424e-01, -2.11705732e+00,  8.60653281e-01,\n",
       "        -7.29849458e-01,  1.17418146e+00, -2.54136384e-01,\n",
       "         2.30875194e-01, -2.82553124e+00, -8.70386124e-01,\n",
       "         3.60016298e+00,  4.65282083e-01, -8.58134627e-01,\n",
       "         3.99585390e+00,  3.03093362e+00, -1.33557105e+00,\n",
       "         1.53862953e-01,  1.68767178e+00, -8.51464748e-01,\n",
       "        -4.37409401e-01,  2.14154720e-02,  1.81574416e+00,\n",
       "         9.24945116e-01, -4.28420246e-01, -1.27118599e+00,\n",
       "        -1.00296998e+00, -2.81468928e-01,  5.22235036e-02,\n",
       "         7.89389014e-02,  1.35588199e-01, -2.50182509e-01],\n",
       "       [-1.54333961e+00, -7.31692314e-02,  4.93412793e-01,\n",
       "        -2.72151709e-01,  1.66492867e+00, -9.30363059e-01,\n",
       "         3.74109596e-01,  2.21268654e+00,  5.44114590e-01,\n",
       "         1.19227886e+00, -1.71961129e+00, -3.50632966e-02,\n",
       "        -1.96306252e+00,  1.70460486e+00, -2.51548886e-01,\n",
       "         3.19138825e-01, -1.78629708e+00, -8.94978046e-01,\n",
       "         3.46650887e+00, -1.13985848e+00, -2.91579306e-01,\n",
       "         3.02122951e-01,  1.94843245e+00,  1.49659514e-01,\n",
       "         4.39288616e-02, -4.06027287e-01, -1.42134714e+00,\n",
       "         4.58507955e-01, -1.69437087e+00, -2.77182460e+00,\n",
       "         2.88914061e+00,  1.16622877e+00,  4.70051825e-01,\n",
       "         8.95601153e-01, -1.57347727e+00,  1.97161436e-02,\n",
       "        -8.03176522e-01,  9.86510873e-01, -1.19758356e+00,\n",
       "        -4.48561102e-01, -5.20282626e-01,  1.03706670e+00,\n",
       "         1.71696794e+00, -1.31980538e+00,  6.49740815e-01,\n",
       "         1.95082808e+00,  2.36218870e-01,  8.74832451e-01,\n",
       "        -1.69460535e+00, -4.04194772e-01,  1.72692859e+00,\n",
       "        -6.28273845e-01, -1.21663332e+00,  2.65158200e+00,\n",
       "         3.67125607e+00,  1.45143878e+00,  9.02703941e-01,\n",
       "         1.74333155e-01, -1.55244100e+00, -2.20957309e-01,\n",
       "         6.95253253e-01, -1.16340661e+00,  1.37853181e+00,\n",
       "        -6.83730483e-01,  1.89285219e-01,  1.42645895e+00,\n",
       "         3.28559899e+00, -6.18645668e-01,  6.03451729e-01,\n",
       "        -3.71089607e-01, -2.00197315e+00, -1.80695868e+00,\n",
       "        -1.82718921e+00,  2.29421949e+00,  4.54759359e-01,\n",
       "         3.42662483e-02, -4.11522925e-01, -9.15477753e-01,\n",
       "        -8.15988064e-01,  2.59791136e-01,  9.89512384e-01,\n",
       "         2.05187082e+00, -1.29517567e+00, -8.08740795e-01,\n",
       "         1.90525150e+00,  7.33560443e-01,  2.46735930e-01,\n",
       "         8.38231623e-01, -2.59004617e+00,  9.47383642e-01,\n",
       "        -2.99164915e+00, -2.87300682e+00,  1.73084092e+00,\n",
       "        -1.26981378e+00, -8.90756905e-01, -8.88722062e-01],\n",
       "       [ 0.00000000e+00,  0.00000000e+00,  0.00000000e+00,\n",
       "         0.00000000e+00,  0.00000000e+00,  0.00000000e+00,\n",
       "         0.00000000e+00,  0.00000000e+00,  0.00000000e+00,\n",
       "         0.00000000e+00,  0.00000000e+00,  0.00000000e+00,\n",
       "         0.00000000e+00,  0.00000000e+00,  0.00000000e+00,\n",
       "         0.00000000e+00,  0.00000000e+00,  0.00000000e+00,\n",
       "         0.00000000e+00,  0.00000000e+00,  0.00000000e+00,\n",
       "         0.00000000e+00,  0.00000000e+00,  0.00000000e+00,\n",
       "         0.00000000e+00,  0.00000000e+00,  0.00000000e+00,\n",
       "         0.00000000e+00,  0.00000000e+00,  0.00000000e+00,\n",
       "         0.00000000e+00,  0.00000000e+00,  0.00000000e+00,\n",
       "         0.00000000e+00,  0.00000000e+00,  0.00000000e+00,\n",
       "         0.00000000e+00,  0.00000000e+00,  0.00000000e+00,\n",
       "         0.00000000e+00,  0.00000000e+00,  0.00000000e+00,\n",
       "         0.00000000e+00,  0.00000000e+00,  0.00000000e+00,\n",
       "         0.00000000e+00,  0.00000000e+00,  0.00000000e+00,\n",
       "         0.00000000e+00,  0.00000000e+00,  0.00000000e+00,\n",
       "         0.00000000e+00,  0.00000000e+00,  0.00000000e+00,\n",
       "         0.00000000e+00,  0.00000000e+00,  0.00000000e+00,\n",
       "         0.00000000e+00,  0.00000000e+00,  0.00000000e+00,\n",
       "         0.00000000e+00,  0.00000000e+00,  0.00000000e+00,\n",
       "         0.00000000e+00,  0.00000000e+00,  0.00000000e+00,\n",
       "         0.00000000e+00,  0.00000000e+00,  0.00000000e+00,\n",
       "         0.00000000e+00,  0.00000000e+00,  0.00000000e+00,\n",
       "         0.00000000e+00,  0.00000000e+00,  0.00000000e+00,\n",
       "         0.00000000e+00,  0.00000000e+00,  0.00000000e+00,\n",
       "         0.00000000e+00,  0.00000000e+00,  0.00000000e+00,\n",
       "         0.00000000e+00,  0.00000000e+00,  0.00000000e+00,\n",
       "         0.00000000e+00,  0.00000000e+00,  0.00000000e+00,\n",
       "         0.00000000e+00,  0.00000000e+00,  0.00000000e+00,\n",
       "         0.00000000e+00,  0.00000000e+00,  0.00000000e+00,\n",
       "         0.00000000e+00,  0.00000000e+00,  0.00000000e+00]], dtype=float32)>"
      ]
     },
     "execution_count": 38,
     "metadata": {},
     "output_type": "execute_result"
    }
   ],
   "source": [
    "print(trainvalid_data_post[1])\n",
    "embedding_output[1]"
   ]
  },
  {
   "cell_type": "code",
   "execution_count": 39,
   "metadata": {},
   "outputs": [
    {
     "name": "stdout",
     "output_type": "stream",
     "text": [
      "[-1.9769197  -1.5778058   0.1167051  -2.4621043   1.2764369   0.45698988\n",
      "  4.7121234   0.48355526 -2.9378102   0.7402641  -0.5600623   2.777891\n",
      " -1.1961813   2.6265764  -1.6676297   1.8103511   2.066329    1.5869163\n",
      "  2.5679533   0.45133978  3.3232007   1.3849066  -0.9588177  -2.428321\n",
      "  0.4940609   0.98123837 -2.3322208   0.6273204  -0.5753155  -3.3714035\n",
      "  0.89585763 -0.06570235  0.8010635  -1.3973078   1.0359118   2.3077874\n",
      " -1.34659    -1.8035158   1.9160767  -2.2861137   3.1665826  -1.8305888\n",
      "  0.5118454   0.97761476 -0.05850661 -0.5106207   0.12322176  6.727638\n",
      " -0.7792842   0.4290229  -1.217195   -1.9535444   3.2533638  -0.5791638\n",
      " -1.6300278  -1.6767257  -0.16072965  0.6873177  -2.2269208   0.7536901\n",
      " -1.6431162   0.9407985  -1.6990153  -2.6793947   5.6841607   0.33106783\n",
      "  4.233346   -0.5799941   1.9924902  -1.4820602  -1.7273182  -2.3527722\n",
      "  2.8772478   0.4774406   1.1982647   1.1545448  -0.5254973  -1.2128356\n",
      "  1.259248    1.1272072   0.22621742 -1.0709025  -0.325599   -0.645257\n",
      "  0.20262331 -2.3263562  -1.7479718   0.42092553 -3.0750804  -0.1612476\n",
      " -5.5212617   1.2668426   0.24008703 -0.14254093 -0.14980423 -0.6712528 ]\n",
      "tf.Tensor(\n",
      "[-1.9769197  -1.5778058   0.1167051  -2.4621043   1.2764369   0.45698988\n",
      "  4.7121234   0.48355526 -2.9378102   0.7402641  -0.5600623   2.777891\n",
      " -1.1961813   2.6265764  -1.6676297   1.8103511   2.066329    1.5869163\n",
      "  2.5679533   0.45133978  3.3232007   1.3849066  -0.9588177  -2.428321\n",
      "  0.4940609   0.98123837 -2.3322208   0.6273204  -0.5753155  -3.3714035\n",
      "  0.89585763 -0.06570235  0.8010635  -1.3973078   1.0359118   2.3077874\n",
      " -1.34659    -1.8035158   1.9160767  -2.2861137   3.1665826  -1.8305888\n",
      "  0.5118454   0.97761476 -0.05850661 -0.5106207   0.12322176  6.727638\n",
      " -0.7792842   0.4290229  -1.217195   -1.9535444   3.2533638  -0.5791638\n",
      " -1.6300278  -1.6767257  -0.16072965  0.6873177  -2.2269208   0.7536901\n",
      " -1.6431162   0.9407985  -1.6990153  -2.6793947   5.6841607   0.33106783\n",
      "  4.233346   -0.5799941   1.9924902  -1.4820602  -1.7273182  -2.3527722\n",
      "  2.8772478   0.4774406   1.1982647   1.1545448  -0.5254973  -1.2128356\n",
      "  1.259248    1.1272072   0.22621742 -1.0709025  -0.325599   -0.645257\n",
      "  0.20262331 -2.3263562  -1.7479718   0.42092553 -3.0750804  -0.1612476\n",
      " -5.5212617   1.2668426   0.24008703 -0.14254093 -0.14980423 -0.6712528 ], shape=(96,), dtype=float32)\n"
     ]
    }
   ],
   "source": [
    "# check\n",
    "print(embedding_matrix[2])\n",
    "print(embedding_output[1][0])"
   ]
  },
  {
   "cell_type": "code",
   "execution_count": 40,
   "metadata": {},
   "outputs": [
    {
     "name": "stdout",
     "output_type": "stream",
     "text": [
      "[ 2.8378754   1.1650891   1.2792326  -1.44433    -0.07071455 -1.6341178\n",
      "  0.62002563 -0.11517736 -1.9335032   3.3358774   2.2093558   0.7196431\n",
      "  3.516199    0.4470973   1.5619574  -3.3012495   1.3424958   2.2828867\n",
      " -3.5979257   5.4764113   0.8708151   1.5705781   0.46741503 -1.6054541\n",
      " -0.30088034  1.0178652   0.4227177  -1.1271626  -0.75181603 -0.6659811\n",
      " -0.3748702  -1.4392719   1.4778563  -1.164463   -1.5934432   1.7169013\n",
      "  2.4758892  -1.4647695  -0.40321425  0.57888603  1.3200401   1.1716722\n",
      " -0.3212483  -1.7554722   1.3535514  -2.4912796   0.5666509   2.3142538\n",
      " -0.7890537  -0.7443414  -1.4914689   1.115681    2.2369552  -2.9744287\n",
      " -1.7901726   2.206091    0.6290316   0.89514196 -3.432572   -0.9108627\n",
      " -2.0447469  -0.995927    0.8177113  -1.411844    1.1843207   1.4984497\n",
      "  2.287442   -1.757352   -0.7800589   0.20175257  0.64182925  1.2549345\n",
      " -1.0969441  -0.34729475 -0.32593256 -1.4211979   1.7833836   1.354198\n",
      " -1.6223513   0.78628254  1.3232028  -1.4030619  -2.2631624  -0.16173708\n",
      "  0.18045819 -1.6287811   1.0428555   1.20765    -1.1378121  -1.3687845\n",
      " -1.8972739   1.5593026  -2.2965024  -0.6752798   0.06203038 -2.0518293 ]\n",
      "tf.Tensor(\n",
      "[ 2.8378754   1.1650891   1.2792326  -1.44433    -0.07071455 -1.6341178\n",
      "  0.62002563 -0.11517736 -1.9335032   3.3358774   2.2093558   0.7196431\n",
      "  3.516199    0.4470973   1.5619574  -3.3012495   1.3424958   2.2828867\n",
      " -3.5979257   5.4764113   0.8708151   1.5705781   0.46741503 -1.6054541\n",
      " -0.30088034  1.0178652   0.4227177  -1.1271626  -0.75181603 -0.6659811\n",
      " -0.3748702  -1.4392719   1.4778563  -1.164463   -1.5934432   1.7169013\n",
      "  2.4758892  -1.4647695  -0.40321425  0.57888603  1.3200401   1.1716722\n",
      " -0.3212483  -1.7554722   1.3535514  -2.4912796   0.5666509   2.3142538\n",
      " -0.7890537  -0.7443414  -1.4914689   1.115681    2.2369552  -2.9744287\n",
      " -1.7901726   2.206091    0.6290316   0.89514196 -3.432572   -0.9108627\n",
      " -2.0447469  -0.995927    0.8177113  -1.411844    1.1843207   1.4984497\n",
      "  2.287442   -1.757352   -0.7800589   0.20175257  0.64182925  1.2549345\n",
      " -1.0969441  -0.34729475 -0.32593256 -1.4211979   1.7833836   1.354198\n",
      " -1.6223513   0.78628254  1.3232028  -1.4030619  -2.2631624  -0.16173708\n",
      "  0.18045819 -1.6287811   1.0428555   1.20765    -1.1378121  -1.3687845\n",
      " -1.8972739   1.5593026  -2.2965024  -0.6752798   0.06203038 -2.0518293 ], shape=(96,), dtype=float32)\n"
     ]
    }
   ],
   "source": [
    "print(embedding_matrix[26])\n",
    "print(embedding_output[1][1])"
   ]
  },
  {
   "cell_type": "markdown",
   "metadata": {},
   "source": [
    "# wrap it up: full neural network architecture and training demo"
   ]
  },
  {
   "cell_type": "code",
   "execution_count": 41,
   "metadata": {},
   "outputs": [
    {
     "data": {
      "text/plain": [
       "array([0, 1, 1, 0, 1, 1, 1, 1, 1, 1, 1, 0, 0, 1, 0, 0, 0, 0])"
      ]
     },
     "execution_count": 41,
     "metadata": {},
     "output_type": "execute_result"
    }
   ],
   "source": [
    "# randomly assign some values for demonstration purpose\n",
    "np.random.seed(0)\n",
    "y_train = np.random.choice(2, len(pad_sequences))\n",
    "y_train"
   ]
  },
  {
   "cell_type": "code",
   "execution_count": 42,
   "metadata": {},
   "outputs": [],
   "source": [
    "from tensorflow.keras.layers import Dense\n",
    "from tensorflow.keras.layers import Conv1D, MaxPooling1D\n",
    "from tensorflow.keras.layers import LSTM\n",
    "from tensorflow.keras.models import Sequential"
   ]
  },
  {
   "cell_type": "code",
   "execution_count": 43,
   "metadata": {},
   "outputs": [
    {
     "name": "stdout",
     "output_type": "stream",
     "text": [
      "Model: \"sequential\"\n",
      "_________________________________________________________________\n",
      "Layer (type)                 Output Shape              Param #   \n",
      "=================================================================\n",
      "embedding (Embedding)        (None, 10, 96)            4800      \n",
      "_________________________________________________________________\n",
      "conv1d (Conv1D)              (None, 6, 4)              1924      \n",
      "_________________________________________________________________\n",
      "max_pooling1d (MaxPooling1D) (None, 1, 4)              0         \n",
      "_________________________________________________________________\n",
      "dense (Dense)                (None, 1, 4)              20        \n",
      "_________________________________________________________________\n",
      "dense_1 (Dense)              (None, 1, 2)              10        \n",
      "=================================================================\n",
      "Total params: 6,754\n",
      "Trainable params: 1,954\n",
      "Non-trainable params: 4,800\n",
      "_________________________________________________________________\n"
     ]
    }
   ],
   "source": [
    "# 1D CNN model.\n",
    "\n",
    "cnnmodel = Sequential()\n",
    "cnnmodel.add(embedding_layer)\n",
    "cnnmodel.add(Conv1D(4, 5, activation='relu'))\n",
    "cnnmodel.add(MaxPooling1D(5))\n",
    "cnnmodel.add(Dense(4, activation='relu'))\n",
    "cnnmodel.add(Dense(2, activation='softmax'))\n",
    "\n",
    "cnnmodel.compile(loss='sparse_categorical_crossentropy',\n",
    "              optimizer='adam',\n",
    "              metrics=['acc'])\n",
    "cnnmodel.summary()"
   ]
  },
  {
   "cell_type": "markdown",
   "metadata": {},
   "source": [
    "### Note:\n",
    "Your deivce gpu configuration might not support the NN architeture setting. \n",
    "Use CPU instead or use cloud"
   ]
  },
  {
   "cell_type": "code",
   "execution_count": 44,
   "metadata": {},
   "outputs": [
    {
     "data": {
      "text/plain": [
       "[PhysicalDevice(name='/physical_device:CPU:0', device_type='CPU'),\n",
       " PhysicalDevice(name='/physical_device:GPU:0', device_type='GPU')]"
      ]
     },
     "execution_count": 44,
     "metadata": {},
     "output_type": "execute_result"
    }
   ],
   "source": [
    "# check gpu availability\n",
    "import tensorflow as tf\n",
    "tf.config.get_visible_devices(device_type=None)\n"
   ]
  },
  {
   "cell_type": "code",
   "execution_count": 45,
   "metadata": {},
   "outputs": [
    {
     "name": "stdout",
     "output_type": "stream",
     "text": [
      "Train on 10 samples, validate on 8 samples\n",
      "10/10 [==============================] - 2s 162ms/sample - loss: 1.2504 - acc: 0.2000 - val_loss: 0.8267 - val_acc: 0.7500\n"
     ]
    }
   ],
   "source": [
    "with tf.device('/cpu:0'): # use cpu to train\n",
    "# with tf.device('/gpu:0'): # use gpu to train\n",
    "    cnnmodel.fit(x=pad_sequences, y=y_train,\n",
    "                 batch_size=128,\n",
    "                 validation_split=0.4,\n",
    "                 epochs=1, )"
   ]
  },
  {
   "cell_type": "code",
   "execution_count": 46,
   "metadata": {},
   "outputs": [],
   "source": [
    "### LSTM Model using pre-trained Embedding Layer"
   ]
  },
  {
   "cell_type": "code",
   "execution_count": 47,
   "metadata": {},
   "outputs": [
    {
     "name": "stdout",
     "output_type": "stream",
     "text": [
      "Model: \"sequential_1\"\n",
      "_________________________________________________________________\n",
      "Layer (type)                 Output Shape              Param #   \n",
      "=================================================================\n",
      "embedding (Embedding)        (None, 10, 96)            4800      \n",
      "_________________________________________________________________\n",
      "lstm (LSTM)                  (None, 128)               115200    \n",
      "_________________________________________________________________\n",
      "dense_2 (Dense)              (None, 2)                 258       \n",
      "=================================================================\n",
      "Total params: 120,258\n",
      "Trainable params: 115,458\n",
      "Non-trainable params: 4,800\n",
      "_________________________________________________________________\n"
     ]
    }
   ],
   "source": [
    "# LSTM model\n",
    "\n",
    "rnnmodel = Sequential()\n",
    "rnnmodel.add(embedding_layer)\n",
    "rnnmodel.add(LSTM(128, dropout=0.2, recurrent_dropout=0.2))\n",
    "rnnmodel.add(Dense(2, activation='sigmoid'))\n",
    "rnnmodel.compile(loss='sparse_categorical_crossentropy',\n",
    "              optimizer='adam',\n",
    "              metrics=['acc'])\n",
    "rnnmodel.summary()\n"
   ]
  },
  {
   "cell_type": "code",
   "execution_count": 48,
   "metadata": {},
   "outputs": [
    {
     "name": "stdout",
     "output_type": "stream",
     "text": [
      "Train on 10 samples, validate on 8 samples\n",
      "10/10 [==============================] - 6s 619ms/sample - loss: 0.6727 - acc: 0.7000 - val_loss: 0.9421 - val_acc: 0.2500\n"
     ]
    }
   ],
   "source": [
    "with tf.device('/cpu:0'):\n",
    "    rnnmodel.fit(x=pad_sequences, y=y_train,\n",
    "                 batch_size=128,\n",
    "                 validation_split=0.4,\n",
    "                 epochs=1, )"
   ]
  },
  {
   "cell_type": "code",
   "execution_count": null,
   "metadata": {},
   "outputs": [],
   "source": []
  }
 ],
 "metadata": {
  "kernelspec": {
   "display_name": "Python [conda env:nlp]",
   "language": "python",
   "name": "conda-env-nlp-py"
  },
  "language_info": {
   "codemirror_mode": {
    "name": "ipython",
    "version": 3
   },
   "file_extension": ".py",
   "mimetype": "text/x-python",
   "name": "python",
   "nbconvert_exporter": "python",
   "pygments_lexer": "ipython3",
   "version": "3.7.4"
  },
  "latex_envs": {
   "LaTeX_envs_menu_present": true,
   "autoclose": false,
   "autocomplete": true,
   "bibliofile": "biblio.bib",
   "cite_by": "apalike",
   "current_citInitial": 1,
   "eqLabelWithNumbers": true,
   "eqNumInitial": 1,
   "hotkeys": {
    "equation": "Ctrl-E",
    "itemize": "Ctrl-I"
   },
   "labels_anchors": false,
   "latex_user_defs": false,
   "report_style_numbering": false,
   "user_envs_cfg": false
  },
  "varInspector": {
   "cols": {
    "lenName": 16,
    "lenType": 16,
    "lenVar": 40
   },
   "kernels_config": {
    "python": {
     "delete_cmd_postfix": "",
     "delete_cmd_prefix": "del ",
     "library": "var_list.py",
     "varRefreshCmd": "print(var_dic_list())"
    },
    "r": {
     "delete_cmd_postfix": ") ",
     "delete_cmd_prefix": "rm(",
     "library": "var_list.r",
     "varRefreshCmd": "cat(var_dic_list()) "
    }
   },
   "types_to_exclude": [
    "module",
    "function",
    "builtin_function_or_method",
    "instance",
    "_Feature"
   ],
   "window_display": false
  }
 },
 "nbformat": 4,
 "nbformat_minor": 2
}
